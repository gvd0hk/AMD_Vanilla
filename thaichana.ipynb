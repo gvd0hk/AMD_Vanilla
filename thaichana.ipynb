{
  "nbformat": 4,
  "nbformat_minor": 0,
  "metadata": {
    "colab": {
      "name": "thaichana.ipynb",
      "provenance": [],
      "collapsed_sections": [],
      "include_colab_link": true
    },
    "kernelspec": {
      "name": "python3",
      "display_name": "Python 3"
    }
  },
  "cells": [
    {
      "cell_type": "markdown",
      "metadata": {
        "id": "view-in-github",
        "colab_type": "text"
      },
      "source": [
        "<a href=\"https://colab.research.google.com/github/gvd0hk/AMD_Vanilla/blob/master/thaichana.ipynb\" target=\"_parent\"><img src=\"https://colab.research.google.com/assets/colab-badge.svg\" alt=\"Open In Colab\"/></a>"
      ]
    },
    {
      "cell_type": "markdown",
      "metadata": {
        "id": "3_CQyk6bYSlG",
        "colab_type": "text"
      },
      "source": [
        "จาก [post ของไมค์](https://www.facebook.com/mike.phulsuksombati/posts/10158848446132668)"
      ]
    },
    {
      "cell_type": "code",
      "metadata": {
        "id": "H-wGx-HFYN2Q",
        "colab_type": "code",
        "colab": {}
      },
      "source": [
        "from requests import get, post"
      ],
      "execution_count": 0,
      "outputs": []
    },
    {
      "cell_type": "code",
      "metadata": {
        "id": "MHPZYeKXh-5q",
        "colab_type": "code",
        "cellView": "form",
        "colab": {}
      },
      "source": [
        "#@title render(dict)\n",
        "# for both requests and normal dict\n",
        "from requests import get, models\n",
        "import json\n",
        "from IPython.display import HTML\n",
        "\n",
        "render_template = \"\"\"\n",
        "<script src=\"https://rawgit.com/caldwell/renderjson/master/renderjson.js\"></script>\n",
        "<script>\n",
        "renderjson.set_show_to_level(1)\n",
        "document.body.appendChild(renderjson(%s))\n",
        "new ResizeObserver(google.colab.output.resizeIframeToContent).observe(document.body)\n",
        "</script>\n",
        "\"\"\"\n",
        "models.Response._repr_html_ = lambda rsp: render_template % rsp.text\n",
        "\n",
        "def render(jsondict):\n",
        "  return HTML(render_template % json.dumps(jsondict))"
      ],
      "execution_count": 0,
      "outputs": []
    },
    {
      "cell_type": "code",
      "metadata": {
        "id": "-fNzImdSYc2V",
        "colab_type": "code",
        "colab": {}
      },
      "source": [
        "search_url = 'https://api-customer.thaichana.com/shop/search'"
      ],
      "execution_count": 0,
      "outputs": []
    },
    {
      "cell_type": "code",
      "metadata": {
        "id": "gMcPek7uYenr",
        "colab_type": "code",
        "outputId": "1b4b7fa1-1a73-4665-e7be-4017505046f0",
        "colab": {
          "base_uri": "https://localhost:8080/",
          "height": 35
        }
      },
      "source": [
        "# 1. จะเอา shop_id\n",
        "!curl $search_url  # เขา block แล้ว."
      ],
      "execution_count": 0,
      "outputs": [
        {
          "output_type": "stream",
          "text": [
            "{\"status\":\"notfound\"}"
          ],
          "name": "stdout"
        }
      ]
    },
    {
      "cell_type": "code",
      "metadata": {
        "id": "WL1piSuGYumC",
        "colab_type": "code",
        "colab": {}
      },
      "source": [
        "# 2. ข้อมูลร้าน ใช้ loop เอาก็ได้.\n",
        "i = 1\n",
        "url = 'https://api-customer.thaichana.com/shop/0001/S%010d/qr' % i"
      ],
      "execution_count": 0,
      "outputs": []
    },
    {
      "cell_type": "code",
      "metadata": {
        "id": "tXJMz-N2aTyS",
        "colab_type": "code",
        "outputId": "f74b4965-3c1d-4066-fa97-3eabf5b02fc0",
        "colab": {
          "base_uri": "https://localhost:8080/",
          "height": 126
        }
      },
      "source": [
        "# ข้อมูล shop ไม่มี check-in/out, density แล้ว.\n",
        "get(url).json()"
      ],
      "execution_count": 0,
      "outputs": [
        {
          "output_type": "execute_result",
          "data": {
            "text/plain": [
              "{'appId': '0001',\n",
              " 'businessType': 'ร้านตัดผม สำหรับบุรุษหรือสตรี (เฉพาะสระ ตัด ซอยผม แต่งผม)',\n",
              " 'canCheckin': True,\n",
              " 'shopId': 'S0000000001',\n",
              " 'shopName': 'บาเบอร์ เดอ เคทีบี',\n",
              " 'subcategory': '01_ECONOMICS_04'}"
            ]
          },
          "metadata": {
            "tags": []
          },
          "execution_count": 7
        }
      ]
    },
    {
      "cell_type": "code",
      "metadata": {
        "id": "MeXUqDvWaXbQ",
        "colab_type": "code",
        "outputId": "1c053ce2-a343-440e-8b35-1c2247d3e321",
        "colab": {
          "base_uri": "https://localhost:8080/",
          "height": 146
        }
      },
      "source": [
        "# error ไม่ให้ใช้ integer ค้น\n",
        "!curl https://merchant.thaichana.com/search/profile/0001/S0000033082 "
      ],
      "execution_count": 0,
      "outputs": [
        {
          "output_type": "stream",
          "text": [
            "<!DOCTYPE html><html><link rel=\"apple-touch-icon\" sizes=\"57x57\" href=\"/apple-icon-57x57.png\"/><link rel=\"apple-touch-icon\" sizes=\"60x60\" href=\"/apple-icon-60x60.png\"/><link rel=\"apple-touch-icon\" sizes=\"72x72\" href=\"/apple-icon-72x72.png\"/><link rel=\"apple-touch-icon\" sizes=\"76x76\" href=\"/apple-icon-76x76.png\"/><link rel=\"apple-touch-icon\" sizes=\"114x114\" href=\"/apple-icon-114x114.png\"/><link rel=\"apple-touch-icon\" sizes=\"120x120\" href=\"/apple-icon-120x120.png\"/><link rel=\"apple-touch-icon\" sizes=\"144x144\" href=\"/apple-icon-144x144.png\"/><link rel=\"apple-touch-icon\" sizes=\"152x152\" href=\"/apple-icon-152x152.png\"/><link rel=\"apple-touch-icon\" sizes=\"180x180\" href=\"/apple-icon-180x180.png\"/><link rel=\"icon\" type=\"image/png\" sizes=\"192x192\" href=\"/android-icon-192x192.png\"/><link rel=\"icon\" type=\"image/png\" sizes=\"32x32\" href=\"/favicon-32x32.png\"/><link rel=\"icon\" type=\"image/png\" sizes=\"96x96\" href=\"/favicon-96x96.png\"/><link rel=\"icon\" type=\"image/png\" sizes=\"16x16\" href=\"/favicon-16x16.png\"/><link rel=\"manifest\" href=\"/manifest.json\"/><meta name=\"msapplication-TileColor\" content=\"#ffffff\"/><meta name=\"msapplication-TileImage\" content=\"/ms-icon-144x144.png\"/><meta name=\"theme-color\" content=\"#ffffff\"/><meta name=\"description\" content=\"ข้อมูลที่แสดงผลบนเว็บไซต์ เพื่อประโยชน์ในการป้องกันและควบคุมการแพร่ระบาดของโรคโควิด 19 และโรคติดต่ออื่น ๆ เท่านั้น\"/><script>(function(w,d,s,l,i){w[l]=w[l]||[];w[l].push({'gtm.start':\n",
            "  new Date().getTime(),event:'gtm.js'});var f=d.getElementsByTagName(s)[0],\n",
            "  j=d.createElement(s),dl=l!='dataLayer'?'&l='+l:'';j.async=true;j.src=\n",
            "  'https://www.googletagmanager.com/gtm.js?id='+i+dl;f.parentNode.insertBefore(j,f);\n",
            "  })(window,document,'script','dataLayer','GTM-5KDZNVW');</script><head><title>&quot;ไทยชนะ&quot; มาตรการไทยชนะ เพื่อป้องกันการแพร่ระบาดของโรค COVID-19</title><script src=\"https://static.line-scdn.net/liff/edge/2/sdk.js\"></script><meta name=\"viewport\" content=\"width=device-width\"/><meta charSet=\"utf-8\"/><title>200: An unexpected error has occurred</title><meta name=\"next-head-count\" content=\"3\"/><link rel=\"preload\" href=\"/_next/static/css/c638b6435d2a90f6aac9.css\" as=\"style\"/><link rel=\"stylesheet\" href=\"/_next/static/css/c638b6435d2a90f6aac9.css\"/><link rel=\"preload\" href=\"/_next/static/css/75aacba4e2268de06f12.css\" as=\"style\"/><link rel=\"stylesheet\" href=\"/_next/static/css/75aacba4e2268de06f12.css\"/><link rel=\"preload\" href=\"/_next/static/css/9986a55e83f8f21599e0.css\" as=\"style\"/><link rel=\"stylesheet\" href=\"/_next/static/css/9986a55e83f8f21599e0.css\"/><link rel=\"preload\" href=\"/_next/static/0osmMUQsBUOJqmihLDDiU/pages/_app.js\" as=\"script\"/><link rel=\"preload\" href=\"/_next/static/runtime/webpack-c212667a5f965e81e004.js\" as=\"script\"/><link rel=\"preload\" href=\"/_next/static/chunks/framework.3ec8699d18dbf7172de5.js\" as=\"script\"/><link rel=\"preload\" href=\"/_next/static/chunks/08202152.ede116608e6bcbcfc1c8.js\" as=\"script\"/><link rel=\"preload\" href=\"/_next/static/chunks/fdcd6e96.05626e4fee262bb4fa8e.js\" as=\"script\"/><link rel=\"preload\" href=\"/_next/static/chunks/b0ca2112b95f4b88f486ceacc59888fb43ddcd60.d385194ce4c75df6ed2f.js\" as=\"script\"/><link rel=\"preload\" href=\"/_next/static/chunks/bbe8b77783af55fa89f3989e214153baa562911b.b50a31b9e106c2488862.js\" as=\"script\"/><link rel=\"preload\" href=\"/_next/static/chunks/9ce656c5896811e30743c8951cb1a2697b9124b0.c3a37559d72a9539154d.js\" as=\"script\"/><link rel=\"preload\" href=\"/_next/static/runtime/main-3e788216cc09a9e55e27.js\" as=\"script\"/></head><body><noscript><iframe src=\"https://www.googletagmanager.com/ns.html?id=GTM-5KDZNVW\"\n",
            "            height=\"0\" width=\"0\" style=\"display:none;visibility:hidden\"></iframe></noscript><div id=\"__next\"><div style=\"color:#000;background:#fff;font-family:-apple-system, BlinkMacSystemFont, Roboto, &quot;Segoe UI&quot;, &quot;Fira Sans&quot;, Avenir, &quot;Helvetica Neue&quot;, &quot;Lucida Grande&quot;, sans-serif;height:100vh;text-align:center;display:flex;flex-direction:column;align-items:center;justify-content:center\"><div><style>body { margin: 0 }</style><h1 style=\"display:inline-block;border-right:1px solid rgba(0, 0, 0,.3);margin:0;margin-right:20px;padding:10px 23px 10px 0;font-size:24px;font-weight:500;vertical-align:top\">200</h1><div style=\"display:inline-block;text-align:left;line-height:49px;height:49px;vertical-align:middle\"><h2 style=\"font-size:14px;font-weight:normal;line-height:inherit;margin:0;padding:0\">An unexpected error has occurred<!-- -->.</h2></div></div></div></div><script id=\"__NEXT_DATA__\" type=\"application/json\">{\"props\":{\"pageProps\":{\"statusCode\":200}},\"page\":\"/_error\",\"query\":{},\"buildId\":\"0osmMUQsBUOJqmihLDDiU\",\"runtimeConfig\":{},\"nextExport\":false,\"isFallback\":false,\"gip\":true}</script><script nomodule=\"\" src=\"/_next/static/runtime/polyfills-c4cba39a8c2ebce9ca17.js\"></script><script async=\"\" data-next-page=\"/_app\" src=\"/_next/static/0osmMUQsBUOJqmihLDDiU/pages/_app.js\"></script><script src=\"/_next/static/runtime/webpack-c212667a5f965e81e004.js\" async=\"\"></script><script src=\"/_next/static/chunks/framework.3ec8699d18dbf7172de5.js\" async=\"\"></script><script src=\"/_next/static/chunks/08202152.ede116608e6bcbcfc1c8.js\" async=\"\"></script><script src=\"/_next/static/chunks/fdcd6e96.05626e4fee262bb4fa8e.js\" async=\"\"></script><script src=\"/_next/static/chunks/b0ca2112b95f4b88f486ceacc59888fb43ddcd60.d385194ce4c75df6ed2f.js\" async=\"\"></script><script src=\"/_next/static/chunks/bbe8b77783af55fa89f3989e214153baa562911b.b50a31b9e106c2488862.js\" async=\"\"></script><script src=\"/_next/static/chunks/9ce656c5896811e30743c8951cb1a2697b9124b0.c3a37559d72a9539154d.js\" async=\"\"></script><script src=\"/_next/static/runtime/main-3e788216cc09a9e55e27.js\" async=\"\"></script><script src=\"/_next/static/0osmMUQsBUOJqmihLDDiU/_buildManifest.js\" async=\"\"></script><script src=\"/_next/static/0osmMUQsBUOJqmihLDDiU/_ssgManifest.js\" async=\"\"></script></body></html>"
          ],
          "name": "stdout"
        }
      ]
    },
    {
      "cell_type": "code",
      "metadata": {
        "id": "_YClfv40ba4x",
        "colab_type": "code",
        "outputId": "c2ada827-8cf6-481a-ac6c-efc1c572a66e",
        "colab": {
          "base_uri": "https://localhost:8080/",
          "height": 55
        }
      },
      "source": [
        "# เปลี่ยนจากใช้ integer เป็น hash สักอย่าง\n",
        "!curl https://api-search.thaichana.com/shop/qnMClX23qK_mzNirOUyae-jU"
      ],
      "execution_count": 0,
      "outputs": [
        {
          "output_type": "stream",
          "text": [
            "{\"shop\":{\"address\":{\"zipCode\":\"10220\",\"province\":\"กรุงเทพมหานคร\",\"addressNo\":\"109/10\",\"street\":\"รามอินทรา\",\"provinceCode\":\"1\",\"district\":\"สายไหม\",\"moo\":null,\"soi\":null,\"subDistrict\":\"คลองถนน\",\"building\":null},\"businessType\":\"ร้านอาหารหรือเครื่องดื่ม\",\"capacity\":12,\"category\":\"ECONOMICS_G4\",\"groupType\":\"4\",\"latitude\":13.8721548,\"longitude\":100.6016707,\"ratingScore\":5,\"shopName\":\"ร้าน​ S&P​ สาขาเซ็นทรัลรามอินทรา\",\"subcategory\":\"06_ECONOMICS_G4_02\",\"id\":\"qnMClX23qK_mzNirOUyae-jU\",\"disclaimer\":\"ข้อมูลที่แสดงผลบนเว็บไซต์ เพื่อประโยชน์ในการป้องกันและควบคุมการแพร่ระบาดของโรคโควิด 19 และโรคติดต่ออื่น ๆ เท่านั้น\"},\"recaptchaSuccess\":false}"
          ],
          "name": "stdout"
        }
      ]
    },
    {
      "cell_type": "code",
      "metadata": {
        "id": "NnykDWIyenSY",
        "colab_type": "code",
        "colab": {}
      },
      "source": [
        "# งั้นต้อง scrape เอา id, ชื่อมา\n",
        "url = 'https://merchant.thaichana.com/search'"
      ],
      "execution_count": 0,
      "outputs": []
    },
    {
      "cell_type": "code",
      "metadata": {
        "id": "I9k4rU4rfkvd",
        "colab_type": "code",
        "outputId": "b3b1bf06-48c1-4f1f-ca88-be951b3f1dc8",
        "colab": {
          "base_uri": "https://localhost:8080/",
          "height": 69
        }
      },
      "source": [
        "post(url, {'size':10})"
      ],
      "execution_count": 0,
      "outputs": [
        {
          "output_type": "execute_result",
          "data": {
            "text/html": [
              "\n",
              "<script src=\"https://rawgit.com/caldwell/renderjson/master/renderjson.js\"></script>\n",
              "<script>\n",
              "renderjson.set_show_to_level(1)\n",
              "document.body.appendChild(renderjson({\"status\":\"notfound\"}))\n",
              "new ResizeObserver(google.colab.output.resizeIframeToContent).observe(document.body)\n",
              "</script>\n"
            ],
            "text/plain": [
              "<Response [404]>"
            ]
          },
          "metadata": {
            "tags": []
          },
          "execution_count": 13
        }
      ]
    },
    {
      "cell_type": "code",
      "metadata": {
        "id": "ry07am35iCIf",
        "colab_type": "code",
        "outputId": "ff4b3552-89bd-4ca7-9f6c-a6e5fdf60771",
        "colab": {
          "base_uri": "https://localhost:8080/",
          "height": 55
        }
      },
      "source": [
        "# ต้อง copy มาจาก browser แล้วค่อยๆ ตัดทีละอันละกัน\n",
        "!curl 'https://api-search.thaichana.com/shop/search' -H 'User-Agent: Mozilla/5.0 (Macintosh; Intel Mac OS X 10.15; rv:76.0) Gecko/20100101 Firefox/76.0' -H 'Accept: application/json, text/plain, */*' -H 'Accept-Language: en-US,en;q=0.5' --compressed -H 'Content-Type: application/json;charset=utf-8' -H 'Origin: https://merchant.thaichana.com' -H 'Connection: keep-alive' -H 'Referer: https://merchant.thaichana.com/search' -H 'TE: Trailers' --data-raw '{\"size\":10,\"sortBy\":\"RATING_DESC\"}'"
      ],
      "execution_count": 0,
      "outputs": [
        {
          "output_type": "stream",
          "text": [
            "{\"shops\":[{\"address\":{\"zipCode\":\"10400\",\"province\":\"กรุงเทพมหานคร\",\"addressNo\":\"977/2\",\"provinceCode\":\"1\",\"street\":\"พหลโยธิิน\",\"district\":\"พญาไท\",\"subDistrict\":\"สามเสนใน\"},\"businessType\":\"ธนาคาร\",\"capacity\":240,\"category\":\"ECONOMICS\",\"groupType\":\"01\",\"latitude\":13.771023108805,\"longitude\":100.541012019305,\"ratingScore\":5,\"shopName\":\"บมจ.ธนาคารกรุงไทย อาคารเอสเอ็ม ทาวเวอร์ ฝ่ายตลาดทุน\",\"subcategory\":\"01_ECONOMICS_02\",\"id\":\"gKYuu3cfTNeqWg6BDy2FZZpk\",\"disclaimer\":\"ข้อมูลที่แสดงผลบนเว็บไซต์ เพื่อประโยชน์ในการป้องกันและควบคุมการแพร่ระบาดของโรคโควิด 19 และโรคติดต่ออื่น ๆ เท่านั้น\"},{\"address\":{\"zipCode\":\"10120\",\"province\":\"กรุงเทพมหานคร\",\"addressNo\":\"8\",\"street\":\"เจริญกรุง\",\"provinceCode\":\"1\",\"district\":\"บางคอแหลม\",\"moo\":\"-\",\"soi\":\"-\",\"subDistrict\":\"บางคอแหลม\",\"building\":\"-\"},\"businessType\":\"ธนาคาร\",\"capacity\":8,\"category\":\"ECONOMICS\",\"groupType\":\"1\",\"latitude\":13.694431323845492,\"longitude\":100.49458118168809,\"ratingScore\":5,\"shopName\":\"บมจ.ธนาคารกรุงไทย สาขาโรงพยาบาลเจริญกรุงประชารักษ์\",\"subcategory\":\"01_ECONOMICS_02\",\"id\":\"aeURVeRCLRGiin7frQiUN97_\",\"disclaimer\":\"ข้อมูลที่แสดงผลบนเว็บไซต์ เพื่อประโยชน์ในการป้องกันและควบคุมการแพร่ระบาดของโรคโควิด 19 และโรคติดต่ออื่น ๆ เท่านั้น\"},{\"address\":{\"zipCode\":\"60000\",\"province\":\"นครสวรรค์\",\"addressNo\":\"162/18\",\"street\":\"สวรรค์วิถี\",\"provinceCode\":\"47\",\"district\":\"เมืองนครสวรรค์\",\"moo\":null,\"soi\":null,\"subDistrict\":\"ปากน้ำโพ\",\"building\":\"แฟรี่แลนด์สรรพสินค้า\"},\"businessType\":\"ธนาคาร\",\"capacity\":8,\"category\":\"ECONOMICS\",\"groupType\":\"1\",\"latitude\":15.703227434302557,\"longitude\":100.13654431965824,\"ratingScore\":5,\"shopName\":\"บมจ.ธนาคารกรุงไทย สาขาแฟรี่แลนด์สรรพสินค้า(นครสวรรค์)\",\"subcategory\":\"01_ECONOMICS_02\",\"id\":\"oHDYrMMDUP9Q6nsKpZefvr5y\",\"disclaimer\":\"ข้อมูลที่แสดงผลบนเว็บไซต์ เพื่อประโยชน์ในการป้องกันและควบคุมการแพร่ระบาดของโรคโควิด 19 และโรคติดต่ออื่น ๆ เท่านั้น\"},{\"address\":{\"zipCode\":\"10400\",\"province\":\"กรุงเทพมหานคร\",\"addressNo\":\"1639/14-15\",\"street\":\"พหลโยธิน\",\"provinceCode\":\"1\",\"district\":\"พญาไท\",\"moo\":null,\"soi\":null,\"subDistrict\":\"สามเสนใน\",\"building\":null},\"businessType\":\"คลีนิกเวชกรรมเสริมความงาม\",\"capacity\":20,\"category\":\"HEALTHCARE_G4\",\"groupType\":\"4\",\"latitude\":13.795450879398159,\"longitude\":100.5497218075401,\"ratingScore\":5,\"shopName\":\"ไทเดิม คลินิกเวชกรรม สาขาสะพานควาย\",\"subcategory\":\"07_HEALTHCARE_G4_01\",\"id\":\"jr4Wei-y5PqepFc_wlS87-Jf\",\"disclaimer\":\"ข้อมูลที่แสดงผลบนเว็บไซต์ เพื่อประโยชน์ในการป้องกันและควบคุมการแพร่ระบาดของโรคโควิด 19 และโรคติดต่ออื่น ๆ เท่านั้น\"},{\"address\":{\"zipCode\":\"10600\",\"province\":\"กรุงเทพมหานคร\",\"addressNo\":\"129\",\"street\":\"รัชดาภิเษก (ตากสิน-ท่าพระ)\",\"provinceCode\":\"1\",\"district\":\"ธนบุรี\",\"moo\":null,\"soi\":null,\"subDistrict\":\"บุคคโล\",\"building\":null},\"businessType\":\"การจำหน่ายสินค้าเพื่อการอุปโภคบริโภค\",\"capacity\":7,\"category\":\"ECONOMICS_G4\",\"groupType\":\"4\",\"latitude\":13.713029254006607,\"longitude\":100.47958253613639,\"ratingScore\":5,\"shopName\":\"ห้างทองศรีทอง\",\"subcategory\":\"06_ECONOMICS_G4_02\",\"id\":\"Av6LgQZ8Bw_mtDTWi1OLqi3N\",\"disclaimer\":\"ข้อมูลที่แสดงผลบนเว็บไซต์ เพื่อประโยชน์ในการป้องกันและควบคุมการแพร่ระบาดของโรคโควิด 19 และโรคติดต่ออื่น ๆ เท่านั้น\"},{\"address\":{\"zipCode\":\"70000\",\"province\":\"ราชบุรี\",\"addressNo\":\"24/21\",\"street\":\"ไกรเพชร\",\"provinceCode\":\"55\",\"district\":\"เมืองราชบุรี\",\"moo\":null,\"soi\":null,\"subDistrict\":\"หน้าเมือง\",\"building\":null},\"businessType\":\"ธนาคาร\",\"capacity\":9,\"category\":\"ECONOMICS\",\"groupType\":\"1\",\"latitude\":13.538198163568522,\"longitude\":99.82126628901818,\"ratingScore\":5,\"shopName\":\"บมจ. ธนาคารกรุงไทย สาขาถนนไกรเพชร\",\"subcategory\":\"01_ECONOMICS_02\",\"id\":\"Xs-urfJZIJC5J2z9mxIqpyQ-\",\"disclaimer\":\"ข้อมูลที่แสดงผลบนเว็บไซต์ เพื่อประโยชน์ในการป้องกันและควบคุมการแพร่ระบาดของโรคโควิด 19 และโรคติดต่ออื่น ๆ เท่านั้น\"},{\"address\":{\"zipCode\":\"10600\",\"province\":\"กรุงเทพมหานคร\",\"addressNo\":\"70\",\"street\":\"อิสรภาพ\",\"provinceCode\":\"1\",\"district\":\"บางกอกใหญ่\",\"moo\":null,\"soi\":\"อิสรภาพ27\",\"subDistrict\":\"วัดอรุณ\",\"building\":null},\"businessType\":\"ร้านเสริมสวย\",\"capacity\":3,\"category\":\"ECONOMICS\",\"groupType\":\"1\",\"latitude\":13.740164183369636,\"longitude\":100.48305245107001,\"ratingScore\":5,\"shopName\":\"สาวบิวตี้&ซาลอน\",\"subcategory\":\"01_ECONOMICS_04\",\"id\":\"YAyN58Ppm0gyCau1fYnS49Wl\",\"disclaimer\":\"ข้อมูลที่แสดงผลบนเว็บไซต์ เพื่อประโยชน์ในการป้องกันและควบคุมการแพร่ระบาดของโรคโควิด 19 และโรคติดต่ออื่น ๆ เท่านั้น\"},{\"address\":{\"zipCode\":\"10600\",\"province\":\"กรุงเทพมหานคร\",\"addressNo\":\"959/3\",\"street\":\"อิสรภาพ\",\"provinceCode\":\"1\",\"district\":\"ธนบุรี\",\"moo\":null,\"soi\":null,\"subDistrict\":\"หิรัญรูจี\",\"building\":null},\"businessType\":\"การจำหน่ายสินค้าเพื่อการอุปโภคบริโภค\",\"capacity\":300,\"category\":\"ECONOMICS_G4\",\"groupType\":\"4\",\"latitude\":13.732303156082418,\"longitude\":100.49206280225955,\"ratingScore\":5,\"shopName\":\"IL GATTO & Silhouette shoes shop\",\"subcategory\":\"06_ECONOMICS_G4_02\",\"id\":\"jRJCWJE85cN0Pe8NHeUfjheL\",\"disclaimer\":\"ข้อมูลที่แสดงผลบนเว็บไซต์ เพื่อประโยชน์ในการป้องกันและควบคุมการแพร่ระบาดของโรคโควิด 19 และโรคติดต่ออื่น ๆ เท่านั้น\"},{\"address\":{\"zipCode\":\"15000\",\"province\":\"ลพบุรี\",\"addressNo\":\"74\",\"street\":\"วิชาเยนทร์\",\"provinceCode\":\"7\",\"district\":\"เมืองลพบุรี\",\"moo\":null,\"soi\":null,\"subDistrict\":\"ท่าหิน\",\"building\":null},\"businessType\":\"ธนาคาร\",\"capacity\":17,\"category\":\"ECONOMICS\",\"groupType\":\"1\",\"latitude\":14.80279511294836,\"longitude\":100.611128237986,\"ratingScore\":5,\"shopName\":\"บมจ. ธนาคารกรุงไทย สาขาถนนวิชาเยนทร์\",\"subcategory\":\"01_ECONOMICS_02\",\"id\":\"ata1iEpHgUGndUk-1818ZQn2\",\"disclaimer\":\"ข้อมูลที่แสดงผลบนเว็บไซต์ เพื่อประโยชน์ในการป้องกันและควบคุมการแพร่ระบาดของโรคโควิด 19 และโรคติดต่ออื่น ๆ เท่านั้น\"},{\"address\":{\"zipCode\":\"10600\",\"province\":\"กรุงเทพมหานคร\",\"addressNo\":\"299\",\"provinceCode\":\"1\",\"street\":\"เจริญนคร\",\"district\":\"คลองสาน\",\"subDistrict\":\"คลองต้นไทร\",\"building\":\"ชั้น G\"},\"businessType\":\"ร้านจำหน่ายอาหาร\",\"capacity\":22,\"category\":\"ECONOMICS\",\"groupType\":\"01\",\"latitude\":13.726112212078,\"longitude\":100.51012467443,\"ratingScore\":5,\"shopName\":\"ร้านทาปาส (TAPAS By Nan Charcoal Grill)\",\"subcategory\":\"01_ECONOMICS_01\",\"id\":\"eGYNVduOgBt0kxpOi8_YddCz\",\"disclaimer\":\"ข้อมูลที่แสดงผลบนเว็บไซต์ เพื่อประโยชน์ในการป้องกันและควบคุมการแพร่ระบาดของโรคโควิด 19 และโรคติดต่ออื่น ๆ เท่านั้น\"}]}"
          ],
          "name": "stdout"
        }
      ]
    },
    {
      "cell_type": "markdown",
      "metadata": {
        "id": "eOgCsyaFiouX",
        "colab_type": "text"
      },
      "source": [
        "ผลการตัด\n",
        "- ไม่เช็คว่าต้องมี size, sortBy\n",
        "- ไม่เช็ค referer\n",
        "- ไม่เช็ค Origin\n",
        "- ไม่ใช้ Content-Type\n",
        "- ไม่เช็ค User-Agent\n",
        "\n",
        "อ้าว.. แล้วทำไม POST ไม่ได้ล่ะ...  อ๋อ URL ผิด 555"
      ]
    },
    {
      "cell_type": "code",
      "metadata": {
        "id": "xpRaun6EiKN-",
        "colab_type": "code",
        "outputId": "65767459-b4d4-425d-e16e-da9a01888ff9",
        "colab": {
          "base_uri": "https://localhost:8080/",
          "height": 55
        }
      },
      "source": [
        "!curl 'https://api-search.thaichana.com/shop/search'  --data-raw ''"
      ],
      "execution_count": 0,
      "outputs": [
        {
          "output_type": "stream",
          "text": [
            "{\"shops\":[{\"address\":{\"zipCode\":\"10400\",\"province\":\"กรุงเทพมหานคร\",\"addressNo\":\"977/2\",\"provinceCode\":\"1\",\"street\":\"พหลโยธิิน\",\"district\":\"พญาไท\",\"subDistrict\":\"สามเสนใน\"},\"businessType\":\"ธนาคาร\",\"capacity\":240,\"category\":\"ECONOMICS\",\"groupType\":\"01\",\"latitude\":13.771023108805,\"longitude\":100.541012019305,\"ratingScore\":5,\"shopName\":\"บมจ.ธนาคารกรุงไทย อาคารเอสเอ็ม ทาวเวอร์ ฝ่ายตลาดทุน\",\"subcategory\":\"01_ECONOMICS_02\",\"id\":\"gKYuu3cfTNeqWg6BDy2FZZpk\",\"disclaimer\":\"ข้อมูลที่แสดงผลบนเว็บไซต์ เพื่อประโยชน์ในการป้องกันและควบคุมการแพร่ระบาดของโรคโควิด 19 และโรคติดต่ออื่น ๆ เท่านั้น\"},{\"address\":{\"zipCode\":\"39000\",\"province\":\"หนองบัวลำภู\",\"addressNo\":\"15\",\"street\":null,\"provinceCode\":\"27\",\"district\":\"เมืองหนองบัวลำภู\",\"moo\":\"2\",\"soi\":null,\"subDistrict\":\"หนองบัว\",\"building\":null},\"businessType\":\"ซุปเปอร์มาร์เก็ต\",\"capacity\":15,\"category\":\"ECONOMICS\",\"groupType\":\"1\",\"latitude\":17.1961687,\"longitude\":102.439353,\"ratingScore\":5,\"shopName\":\"เทสโก้โลตัสเอ็กเพรสตลาดกิจเจริญ\",\"subcategory\":\"01_ECONOMICS_02\",\"id\":\"oVl9--OQ5VgOihrYgVLX_M34\",\"disclaimer\":\"ข้อมูลที่แสดงผลบนเว็บไซต์ เพื่อประโยชน์ในการป้องกันและควบคุมการแพร่ระบาดของโรคโควิด 19 และโรคติดต่ออื่น ๆ เท่านั้น\"},{\"address\":{\"zipCode\":\"10400\",\"province\":\"กรุงเทพมหานคร\",\"addressNo\":\"1639/14-15\",\"street\":\"พหลโยธิน\",\"provinceCode\":\"1\",\"district\":\"พญาไท\",\"moo\":null,\"soi\":null,\"subDistrict\":\"สามเสนใน\",\"building\":null},\"businessType\":\"คลีนิกเวชกรรมเสริมความงาม\",\"capacity\":20,\"category\":\"HEALTHCARE_G4\",\"groupType\":\"4\",\"latitude\":13.795450879398159,\"longitude\":100.5497218075401,\"ratingScore\":5,\"shopName\":\"ไทเดิม คลินิกเวชกรรม สาขาสะพานควาย\",\"subcategory\":\"07_HEALTHCARE_G4_01\",\"id\":\"jr4Wei-y5PqepFc_wlS87-Jf\",\"disclaimer\":\"ข้อมูลที่แสดงผลบนเว็บไซต์ เพื่อประโยชน์ในการป้องกันและควบคุมการแพร่ระบาดของโรคโควิด 19 และโรคติดต่ออื่น ๆ เท่านั้น\"},{\"address\":{\"zipCode\":\"70000\",\"province\":\"ราชบุรี\",\"addressNo\":\"24/21\",\"street\":\"ไกรเพชร\",\"provinceCode\":\"55\",\"district\":\"เมืองราชบุรี\",\"moo\":null,\"soi\":null,\"subDistrict\":\"หน้าเมือง\",\"building\":null},\"businessType\":\"ธนาคาร\",\"capacity\":9,\"category\":\"ECONOMICS\",\"groupType\":\"1\",\"latitude\":13.538198163568522,\"longitude\":99.82126628901818,\"ratingScore\":5,\"shopName\":\"บมจ. ธนาคารกรุงไทย สาขาถนนไกรเพชร\",\"subcategory\":\"01_ECONOMICS_02\",\"id\":\"Xs-urfJZIJC5J2z9mxIqpyQ-\",\"disclaimer\":\"ข้อมูลที่แสดงผลบนเว็บไซต์ เพื่อประโยชน์ในการป้องกันและควบคุมการแพร่ระบาดของโรคโควิด 19 และโรคติดต่ออื่น ๆ เท่านั้น\"},{\"address\":{\"zipCode\":\"12140\",\"province\":\"ปทุมธานี\",\"addressNo\":\"8/1\",\"street\":null,\"provinceCode\":\"4\",\"district\":\"ลาดหลุมแก้ว\",\"moo\":\"4\",\"soi\":null,\"subDistrict\":\"ระแหง\",\"building\":null},\"businessType\":\"ร้านจำหน่ายอาหาร\",\"capacity\":15,\"category\":\"ECONOMICS\",\"groupType\":\"1\",\"latitude\":13.680412806572614,\"longitude\":100.45453463515625,\"ratingScore\":5,\"shopName\":\"เทสโก้โลตัสเอ็กเพรสสาขาตลาดลาดหลุมแก้ว\",\"subcategory\":\"01_ECONOMICS_01\",\"id\":\"vgPs5X6oXllpCezFCXwoI0iB\",\"disclaimer\":\"ข้อมูลที่แสดงผลบนเว็บไซต์ เพื่อประโยชน์ในการป้องกันและควบคุมการแพร่ระบาดของโรคโควิด 19 และโรคติดต่ออื่น ๆ เท่านั้น\"},{\"address\":{\"zipCode\":\"10600\",\"province\":\"กรุงเทพมหานคร\",\"addressNo\":\"70\",\"street\":\"อิสรภาพ\",\"provinceCode\":\"1\",\"district\":\"บางกอกใหญ่\",\"moo\":null,\"soi\":\"อิสรภาพ27\",\"subDistrict\":\"วัดอรุณ\",\"building\":null},\"businessType\":\"ร้านเสริมสวย\",\"capacity\":3,\"category\":\"ECONOMICS\",\"groupType\":\"1\",\"latitude\":13.740164183369636,\"longitude\":100.48305245107001,\"ratingScore\":5,\"shopName\":\"สาวบิวตี้&ซาลอน\",\"subcategory\":\"01_ECONOMICS_04\",\"id\":\"YAyN58Ppm0gyCau1fYnS49Wl\",\"disclaimer\":\"ข้อมูลที่แสดงผลบนเว็บไซต์ เพื่อประโยชน์ในการป้องกันและควบคุมการแพร่ระบาดของโรคโควิด 19 และโรคติดต่ออื่น ๆ เท่านั้น\"},{\"address\":{\"zipCode\":\"10600\",\"province\":\"กรุงเทพมหานคร\",\"addressNo\":\"959/3\",\"street\":\"อิสรภาพ\",\"provinceCode\":\"1\",\"district\":\"ธนบุรี\",\"moo\":null,\"soi\":null,\"subDistrict\":\"หิรัญรูจี\",\"building\":null},\"businessType\":\"การจำหน่ายสินค้าเพื่อการอุปโภคบริโภค\",\"capacity\":300,\"category\":\"ECONOMICS_G4\",\"groupType\":\"4\",\"latitude\":13.732303156082418,\"longitude\":100.49206280225955,\"ratingScore\":5,\"shopName\":\"IL GATTO & Silhouette shoes shop\",\"subcategory\":\"06_ECONOMICS_G4_02\",\"id\":\"jRJCWJE85cN0Pe8NHeUfjheL\",\"disclaimer\":\"ข้อมูลที่แสดงผลบนเว็บไซต์ เพื่อประโยชน์ในการป้องกันและควบคุมการแพร่ระบาดของโรคโควิด 19 และโรคติดต่ออื่น ๆ เท่านั้น\"},{\"address\":{\"zipCode\":\"65000\",\"province\":\"พิษณุโลก\",\"addressNo\":\"99/9\",\"street\":\"สิงห์​วัฒน์​\",\"provinceCode\":\"52\",\"district\":\"เมืองพิษณุโลก\",\"moo\":\"5\",\"soi\":null,\"subDistrict\":\"จอมทอง\",\"building\":\"เซ็นทรัล​พิษณุโลก​\"},\"businessType\":\"ร้านอาหารหรือเครื่องดื่ม\",\"capacity\":30,\"category\":\"ECONOMICS_G4\",\"groupType\":\"4\",\"latitude\":16.8402558,\"longitude\":100.2333563,\"ratingScore\":5,\"shopName\":\"The​pizza​company​สาขา​เซ็นทรัล​พิษณุโลก​\",\"subcategory\":\"06_ECONOMICS_G4_02\",\"id\":\"JHO2ytOCQKPFo2cyrCWPRxCX\",\"disclaimer\":\"ข้อมูลที่แสดงผลบนเว็บไซต์ เพื่อประโยชน์ในการป้องกันและควบคุมการแพร่ระบาดของโรคโควิด 19 และโรคติดต่ออื่น ๆ เท่านั้น\"},{\"address\":{\"zipCode\":\"15000\",\"province\":\"ลพบุรี\",\"addressNo\":\"74\",\"street\":\"วิชาเยนทร์\",\"provinceCode\":\"7\",\"district\":\"เมืองลพบุรี\",\"moo\":null,\"soi\":null,\"subDistrict\":\"ท่าหิน\",\"building\":null},\"businessType\":\"ธนาคาร\",\"capacity\":17,\"category\":\"ECONOMICS\",\"groupType\":\"1\",\"latitude\":14.80279511294836,\"longitude\":100.611128237986,\"ratingScore\":5,\"shopName\":\"บมจ. ธนาคารกรุงไทย สาขาถนนวิชาเยนทร์\",\"subcategory\":\"01_ECONOMICS_02\",\"id\":\"ata1iEpHgUGndUk-1818ZQn2\",\"disclaimer\":\"ข้อมูลที่แสดงผลบนเว็บไซต์ เพื่อประโยชน์ในการป้องกันและควบคุมการแพร่ระบาดของโรคโควิด 19 และโรคติดต่ออื่น ๆ เท่านั้น\"},{\"address\":{\"zipCode\":\"10120\",\"province\":\"กรุงเทพมหานคร\",\"addressNo\":\"8\",\"street\":\"เจริญกรุง\",\"provinceCode\":\"1\",\"district\":\"บางคอแหลม\",\"moo\":\"-\",\"soi\":\"-\",\"subDistrict\":\"บางคอแหลม\",\"building\":\"-\"},\"businessType\":\"ธนาคาร\",\"capacity\":8,\"category\":\"ECONOMICS\",\"groupType\":\"1\",\"latitude\":13.694431323845492,\"longitude\":100.49458118168809,\"ratingScore\":5,\"shopName\":\"บมจ.ธนาคารกรุงไทย สาขาโรงพยาบาลเจริญกรุงประชารักษ์\",\"subcategory\":\"01_ECONOMICS_02\",\"id\":\"aeURVeRCLRGiin7frQiUN97_\",\"disclaimer\":\"ข้อมูลที่แสดงผลบนเว็บไซต์ เพื่อประโยชน์ในการป้องกันและควบคุมการแพร่ระบาดของโรคโควิด 19 และโรคติดต่ออื่น ๆ เท่านั้น\"},{\"address\":{\"zipCode\":\"60000\",\"province\":\"นครสวรรค์\",\"addressNo\":\"162/18\",\"street\":\"สวรรค์วิถี\",\"provinceCode\":\"47\",\"district\":\"เมืองนครสวรรค์\",\"moo\":null,\"soi\":null,\"subDistrict\":\"ปากน้ำโพ\",\"building\":\"แฟรี่แลนด์สรรพสินค้า\"},\"businessType\":\"ธนาคาร\",\"capacity\":8,\"category\":\"ECONOMICS\",\"groupType\":\"1\",\"latitude\":15.703227434302557,\"longitude\":100.13654431965824,\"ratingScore\":5,\"shopName\":\"บมจ.ธนาคารกรุงไทย สาขาแฟรี่แลนด์สรรพสินค้า(นครสวรรค์)\",\"subcategory\":\"01_ECONOMICS_02\",\"id\":\"oHDYrMMDUP9Q6nsKpZefvr5y\",\"disclaimer\":\"ข้อมูลที่แสดงผลบนเว็บไซต์ เพื่อประโยชน์ในการป้องกันและควบคุมการแพร่ระบาดของโรคโควิด 19 และโรคติดต่ออื่น ๆ เท่านั้น\"},{\"address\":{\"zipCode\":\"57140\",\"province\":\"เชียงราย\",\"addressNo\":\"115,115/2\",\"street\":null,\"provinceCode\":\"45\",\"district\":\"เชียงของ\",\"moo\":\"12\",\"soi\":null,\"subDistrict\":\"เวียง\",\"building\":\"อาคารธนาคารกรุงไทย สาขาเชียงของ\"},\"businessType\":\"ธนาคาร\",\"capacity\":16,\"category\":\"ECONOMICS\",\"groupType\":\"1\",\"latitude\":20.26109713715002,\"longitude\":100.40696306922327,\"ratingScore\":5,\"shopName\":\"บมจ.ธนาคารกรุงไทย สาขาเชียงของ\",\"subcategory\":\"01_ECONOMICS_02\",\"id\":\"jtk1Oe6WLY_u279ecdSgsNh6\",\"disclaimer\":\"ข้อมูลที่แสดงผลบนเว็บไซต์ เพื่อประโยชน์ในการป้องกันและควบคุมการแพร่ระบาดของโรคโควิด 19 และโรคติดต่ออื่น ๆ เท่านั้น\"},{\"address\":{\"zipCode\":\"10220\",\"province\":\"กรุงเทพมหานคร\",\"addressNo\":\"109/10\",\"street\":\"รามอินทรา\",\"provinceCode\":\"1\",\"district\":\"สายไหม\",\"moo\":null,\"soi\":null,\"subDistrict\":\"คลองถนน\",\"building\":null},\"businessType\":\"ร้านอาหารหรือเครื่องดื่ม\",\"capacity\":12,\"category\":\"ECONOMICS_G4\",\"groupType\":\"4\",\"latitude\":13.8721548,\"longitude\":100.6016707,\"ratingScore\":5,\"shopName\":\"ร้าน​ S&P​ สาขาเซ็นทรัลรามอินทรา\",\"subcategory\":\"06_ECONOMICS_G4_02\",\"id\":\"qnMClX23qK_mzNirOUyae-jU\",\"disclaimer\":\"ข้อมูลที่แสดงผลบนเว็บไซต์ เพื่อประโยชน์ในการป้องกันและควบคุมการแพร่ระบาดของโรคโควิด 19 และโรคติดต่ออื่น ๆ เท่านั้น\"},{\"address\":{\"zipCode\":\"10210\",\"province\":\"กรุงเทพมหานคร\",\"addressNo\":\"183/511,512\",\"street\":null,\"provinceCode\":\"1\",\"district\":\"ดอนเมือง\",\"moo\":null,\"soi\":null,\"subDistrict\":\"ดอนเมือง\",\"building\":null},\"businessType\":\"ร้านสะดวกซื้อ\",\"capacity\":10,\"category\":\"ECONOMICS\",\"groupType\":\"1\",\"latitude\":13.8913072,\"longitude\":100.5820264,\"ratingScore\":5,\"shopName\":\"FamilyMart 0320 สาขา โกสุมสามัคคี\",\"subcategory\":\"01_ECONOMICS_01\",\"id\":\"-wD74X6CK8Wts5VCHGbEXzJn\",\"disclaimer\":\"ข้อมูลที่แสดงผลบนเว็บไซต์ เพื่อประโยชน์ในการป้องกันและควบคุมการแพร่ระบาดของโรคโควิด 19 และโรคติดต่ออื่น ๆ เท่านั้น\"},{\"address\":{\"zipCode\":\"20000\",\"province\":\"ชลบุรี\",\"addressNo\":\"888\",\"street\":null,\"provinceCode\":\"11\",\"district\":\"เมืองชลบุรี\",\"moo\":null,\"soi\":null,\"subDistrict\":\"ดอนหัวฬ่อ\",\"building\":null},\"businessType\":\"การจำหน่ายสินค้าเพื่อการอุปโภคบริโภค\",\"capacity\":6,\"category\":\"ECONOMICS_G4\",\"groupType\":\"4\",\"latitude\":13.405827961491038,\"longitude\":101.04200525081454,\"ratingScore\":5,\"shopName\":\"ห้างทองบางกอกโกลด์ส สาขา โรบินสัน ชลบุรี\",\"subcategory\":\"06_ECONOMICS_G4_02\",\"id\":\"BGDuUv6nSbkz0tR8_wYzZm5O\",\"disclaimer\":\"ข้อมูลที่แสดงผลบนเว็บไซต์ เพื่อประโยชน์ในการป้องกันและควบคุมการแพร่ระบาดของโรคโควิด 19 และโรคติดต่ออื่น ๆ เท่านั้น\"},{\"address\":{\"zipCode\":\"10270\",\"province\":\"สมุทรปราการ\",\"addressNo\":\"2502\",\"street\":null,\"provinceCode\":\"2\",\"district\":\"เมืองสมุทรปราการ\",\"moo\":\"3\",\"soi\":null,\"subDistrict\":\"บางด้วน\",\"building\":\"อาเทสโกโล้ตัส สาขาบางปู\"},\"businessType\":\"ห้างสรรพสินค้า\",\"capacity\":10,\"category\":\"ECONOMICS_G4\",\"groupType\":\"4\",\"latitude\":13.521084250062572,\"longitude\":100.66837146991357,\"ratingScore\":5,\"shopName\":\"บริษัท บาจา (ประเทศไทย) จำกัด สาขาโลตัสบางปู\",\"subcategory\":\"06_ECONOMICS_G4_02\",\"id\":\"ZpwxpLHUk35XX4r2su0qt7Zb\",\"disclaimer\":\"ข้อมูลที่แสดงผลบนเว็บไซต์ เพื่อประโยชน์ในการป้องกันและควบคุมการแพร่ระบาดของโรคโควิด 19 และโรคติดต่ออื่น ๆ เท่านั้น\"},{\"address\":{\"zipCode\":\"11120\",\"province\":\"นนทบุรี\",\"addressNo\":\"99\",\"street\":\"แจ้งวัฒนะ\",\"provinceCode\":\"3\",\"district\":\"ปากเกร็ด\",\"moo\":\"2\",\"soi\":null,\"subDistrict\":\"บางตลาด\",\"building\":\"เซ็นทรัลพลาซาแจ้งวัฒนะ ชั้น2\"},\"businessType\":\"ศูนย์การค้า\",\"capacity\":5,\"category\":\"ECONOMICS_G4\",\"groupType\":\"4\",\"latitude\":13.8526324,\"longitude\":100.5388478,\"ratingScore\":5,\"shopName\":\"G-SHOCK CASIO แจ้งวัฒนะ\",\"subcategory\":\"06_ECONOMICS_G4_02\",\"id\":\"N-ZhoV76Km28SnP0Wnm2nMx1\",\"disclaimer\":\"ข้อมูลที่แสดงผลบนเว็บไซต์ เพื่อประโยชน์ในการป้องกันและควบคุมการแพร่ระบาดของโรคโควิด 19 และโรคติดต่ออื่น ๆ เท่านั้น\"},{\"address\":{\"zipCode\":\"30130\",\"province\":\"นครราชสีมา\",\"addressNo\":\"289\",\"street\":null,\"provinceCode\":\"19\",\"district\":\"ปากช่อง\",\"moo\":null,\"soi\":null,\"subDistrict\":\"ขนงพระ\",\"building\":\"อาคารเทสโก้โลตัส\"},\"businessType\":\"ร้านอาหารหรือเครื่องดื่ม\",\"capacity\":20,\"category\":\"ECONOMICS_G4\",\"groupType\":\"4\",\"latitude\":14.7018118,\"longitude\":101.4052769,\"ratingScore\":5,\"shopName\":\"ร้านตำมั่ว สาขาโลตัสปากช่อง\",\"subcategory\":\"06_ECONOMICS_G4_02\",\"id\":\"TDhXPmSmdidGgLvAGFlH9KLo\",\"disclaimer\":\"ข้อมูลที่แสดงผลบนเว็บไซต์ เพื่อประโยชน์ในการป้องกันและควบคุมการแพร่ระบาดของโรคโควิด 19 และโรคติดต่ออื่น ๆ เท่านั้น\"},{\"address\":{\"zipCode\":\"50100\",\"province\":\"เชียงใหม่\",\"addressNo\":\"252-252/1\",\"street\":\"หฃมหิดล\",\"provinceCode\":\"38\",\"district\":\"เมืองเชียงใหม่\",\"moo\":null,\"soi\":null,\"subDistrict\":\"ป่าแดด\",\"building\":\"เลขที่ห้อง 111 ชั้น 1\"},\"businessType\":\"การจำหน่ายสินค้าเพื่อการอุปโภคบริโภค\",\"capacity\":16,\"category\":\"ECONOMICS_G4\",\"groupType\":\"4\",\"latitude\":18.7692928,\"longitude\":98.9755856,\"ratingScore\":5,\"shopName\":\"ร้าน Innisfree สาขา CentralPlaza Chiangmai Airport\",\"subcategory\":\"06_ECONOMICS_G4_02\",\"id\":\"wR1oasLvHxM8H9O3HtPMxb2b\",\"disclaimer\":\"ข้อมูลที่แสดงผลบนเว็บไซต์ เพื่อประโยชน์ในการป้องกันและควบคุมการแพร่ระบาดของโรคโควิด 19 และโรคติดต่ออื่น ๆ เท่านั้น\"},{\"address\":{\"zipCode\":\"84130\",\"province\":\"สุราษฎร์ธานี\",\"addressNo\":\"37/7-8\",\"provinceCode\":\"67\",\"street\":\"จุลจอมเกล้า\",\"district\":\"พุนพิน\",\"moo\":\"-\",\"soi\":\"-\",\"subDistrict\":\"กรูด\",\"building\":\"-\"},\"businessType\":\"ร้านจำหน่ายอาหาร\",\"capacity\":100,\"category\":\"ECONOMICS\",\"groupType\":\"01\",\"latitude\":9.109259033596,\"longitude\":99.231593824185,\"ratingScore\":5,\"shopName\":\"ร้านแม่อุไรข้าวหน้าเป็ดสาขา2\",\"subcategory\":\"01_ECONOMICS_01\",\"id\":\"DnW2myHX3nmmOjZQiEX_9DcN\",\"disclaimer\":\"ข้อมูลที่แสดงผลบนเว็บไซต์ เพื่อประโยชน์ในการป้องกันและควบคุมการแพร่ระบาดของโรคโควิด 19 และโรคติดต่ออื่น ๆ เท่านั้น\"}]}"
          ],
          "name": "stdout"
        }
      ]
    },
    {
      "cell_type": "code",
      "metadata": {
        "id": "rNSxsboyiaMp",
        "colab_type": "code",
        "colab": {}
      },
      "source": [
        "url = 'https://api-search.thaichana.com/shop/search'"
      ],
      "execution_count": 0,
      "outputs": []
    },
    {
      "cell_type": "code",
      "metadata": {
        "id": "5n0pMQhSj_Bg",
        "colab_type": "code",
        "outputId": "8fea98ac-04e1-4d08-c548-a075fcdfc4ed",
        "colab": {
          "base_uri": "https://localhost:8080/",
          "height": 69
        }
      },
      "source": [
        "post(url)"
      ],
      "execution_count": 0,
      "outputs": [
        {
          "output_type": "execute_result",
          "data": {
            "text/html": [
              "\n",
              "<script src=\"https://rawgit.com/caldwell/renderjson/master/renderjson.js\"></script>\n",
              "<script>\n",
              "renderjson.set_show_to_level(1)\n",
              "document.body.appendChild(renderjson({\"shops\":[{\"address\":{\"zipCode\":\"10400\",\"province\":\"กรุงเทพมหานคร\",\"addressNo\":\"977/2\",\"provinceCode\":\"1\",\"street\":\"พหลโยธิิน\",\"district\":\"พญาไท\",\"subDistrict\":\"สามเสนใน\"},\"businessType\":\"ธนาคาร\",\"capacity\":240,\"category\":\"ECONOMICS\",\"groupType\":\"01\",\"latitude\":13.771023108805,\"longitude\":100.541012019305,\"ratingScore\":5,\"shopName\":\"บมจ.ธนาคารกรุงไทย อาคารเอสเอ็ม ทาวเวอร์ ฝ่ายตลาดทุน\",\"subcategory\":\"01_ECONOMICS_02\",\"id\":\"gKYuu3cfTNeqWg6BDy2FZZpk\",\"disclaimer\":\"ข้อมูลที่แสดงผลบนเว็บไซต์ เพื่อประโยชน์ในการป้องกันและควบคุมการแพร่ระบาดของโรคโควิด 19 และโรคติดต่ออื่น ๆ เท่านั้น\"},{\"address\":{\"zipCode\":\"39000\",\"province\":\"หนองบัวลำภู\",\"addressNo\":\"15\",\"street\":null,\"provinceCode\":\"27\",\"district\":\"เมืองหนองบัวลำภู\",\"moo\":\"2\",\"soi\":null,\"subDistrict\":\"หนองบัว\",\"building\":null},\"businessType\":\"ซุปเปอร์มาร์เก็ต\",\"capacity\":15,\"category\":\"ECONOMICS\",\"groupType\":\"1\",\"latitude\":17.1961687,\"longitude\":102.439353,\"ratingScore\":5,\"shopName\":\"เทสโก้โลตัสเอ็กเพรสตลาดกิจเจริญ\",\"subcategory\":\"01_ECONOMICS_02\",\"id\":\"oVl9--OQ5VgOihrYgVLX_M34\",\"disclaimer\":\"ข้อมูลที่แสดงผลบนเว็บไซต์ เพื่อประโยชน์ในการป้องกันและควบคุมการแพร่ระบาดของโรคโควิด 19 และโรคติดต่ออื่น ๆ เท่านั้น\"},{\"address\":{\"zipCode\":\"10400\",\"province\":\"กรุงเทพมหานคร\",\"addressNo\":\"1639/14-15\",\"street\":\"พหลโยธิน\",\"provinceCode\":\"1\",\"district\":\"พญาไท\",\"moo\":null,\"soi\":null,\"subDistrict\":\"สามเสนใน\",\"building\":null},\"businessType\":\"คลีนิกเวชกรรมเสริมความงาม\",\"capacity\":20,\"category\":\"HEALTHCARE_G4\",\"groupType\":\"4\",\"latitude\":13.795450879398159,\"longitude\":100.5497218075401,\"ratingScore\":5,\"shopName\":\"ไทเดิม คลินิกเวชกรรม สาขาสะพานควาย\",\"subcategory\":\"07_HEALTHCARE_G4_01\",\"id\":\"jr4Wei-y5PqepFc_wlS87-Jf\",\"disclaimer\":\"ข้อมูลที่แสดงผลบนเว็บไซต์ เพื่อประโยชน์ในการป้องกันและควบคุมการแพร่ระบาดของโรคโควิด 19 และโรคติดต่ออื่น ๆ เท่านั้น\"},{\"address\":{\"zipCode\":\"70000\",\"province\":\"ราชบุรี\",\"addressNo\":\"24/21\",\"street\":\"ไกรเพชร\",\"provinceCode\":\"55\",\"district\":\"เมืองราชบุรี\",\"moo\":null,\"soi\":null,\"subDistrict\":\"หน้าเมือง\",\"building\":null},\"businessType\":\"ธนาคาร\",\"capacity\":9,\"category\":\"ECONOMICS\",\"groupType\":\"1\",\"latitude\":13.538198163568522,\"longitude\":99.82126628901818,\"ratingScore\":5,\"shopName\":\"บมจ. ธนาคารกรุงไทย สาขาถนนไกรเพชร\",\"subcategory\":\"01_ECONOMICS_02\",\"id\":\"Xs-urfJZIJC5J2z9mxIqpyQ-\",\"disclaimer\":\"ข้อมูลที่แสดงผลบนเว็บไซต์ เพื่อประโยชน์ในการป้องกันและควบคุมการแพร่ระบาดของโรคโควิด 19 และโรคติดต่ออื่น ๆ เท่านั้น\"},{\"address\":{\"zipCode\":\"12140\",\"province\":\"ปทุมธานี\",\"addressNo\":\"8/1\",\"street\":null,\"provinceCode\":\"4\",\"district\":\"ลาดหลุมแก้ว\",\"moo\":\"4\",\"soi\":null,\"subDistrict\":\"ระแหง\",\"building\":null},\"businessType\":\"ร้านจำหน่ายอาหาร\",\"capacity\":15,\"category\":\"ECONOMICS\",\"groupType\":\"1\",\"latitude\":13.680412806572614,\"longitude\":100.45453463515625,\"ratingScore\":5,\"shopName\":\"เทสโก้โลตัสเอ็กเพรสสาขาตลาดลาดหลุมแก้ว\",\"subcategory\":\"01_ECONOMICS_01\",\"id\":\"vgPs5X6oXllpCezFCXwoI0iB\",\"disclaimer\":\"ข้อมูลที่แสดงผลบนเว็บไซต์ เพื่อประโยชน์ในการป้องกันและควบคุมการแพร่ระบาดของโรคโควิด 19 และโรคติดต่ออื่น ๆ เท่านั้น\"},{\"address\":{\"zipCode\":\"10600\",\"province\":\"กรุงเทพมหานคร\",\"addressNo\":\"70\",\"street\":\"อิสรภาพ\",\"provinceCode\":\"1\",\"district\":\"บางกอกใหญ่\",\"moo\":null,\"soi\":\"อิสรภาพ27\",\"subDistrict\":\"วัดอรุณ\",\"building\":null},\"businessType\":\"ร้านเสริมสวย\",\"capacity\":3,\"category\":\"ECONOMICS\",\"groupType\":\"1\",\"latitude\":13.740164183369636,\"longitude\":100.48305245107001,\"ratingScore\":5,\"shopName\":\"สาวบิวตี้&ซาลอน\",\"subcategory\":\"01_ECONOMICS_04\",\"id\":\"YAyN58Ppm0gyCau1fYnS49Wl\",\"disclaimer\":\"ข้อมูลที่แสดงผลบนเว็บไซต์ เพื่อประโยชน์ในการป้องกันและควบคุมการแพร่ระบาดของโรคโควิด 19 และโรคติดต่ออื่น ๆ เท่านั้น\"},{\"address\":{\"zipCode\":\"10600\",\"province\":\"กรุงเทพมหานคร\",\"addressNo\":\"959/3\",\"street\":\"อิสรภาพ\",\"provinceCode\":\"1\",\"district\":\"ธนบุรี\",\"moo\":null,\"soi\":null,\"subDistrict\":\"หิรัญรูจี\",\"building\":null},\"businessType\":\"การจำหน่ายสินค้าเพื่อการอุปโภคบริโภค\",\"capacity\":300,\"category\":\"ECONOMICS_G4\",\"groupType\":\"4\",\"latitude\":13.732303156082418,\"longitude\":100.49206280225955,\"ratingScore\":5,\"shopName\":\"IL GATTO & Silhouette shoes shop\",\"subcategory\":\"06_ECONOMICS_G4_02\",\"id\":\"jRJCWJE85cN0Pe8NHeUfjheL\",\"disclaimer\":\"ข้อมูลที่แสดงผลบนเว็บไซต์ เพื่อประโยชน์ในการป้องกันและควบคุมการแพร่ระบาดของโรคโควิด 19 และโรคติดต่ออื่น ๆ เท่านั้น\"},{\"address\":{\"zipCode\":\"65000\",\"province\":\"พิษณุโลก\",\"addressNo\":\"99/9\",\"street\":\"สิงห์​วัฒน์​\",\"provinceCode\":\"52\",\"district\":\"เมืองพิษณุโลก\",\"moo\":\"5\",\"soi\":null,\"subDistrict\":\"จอมทอง\",\"building\":\"เซ็นทรัล​พิษณุโลก​\"},\"businessType\":\"ร้านอาหารหรือเครื่องดื่ม\",\"capacity\":30,\"category\":\"ECONOMICS_G4\",\"groupType\":\"4\",\"latitude\":16.8402558,\"longitude\":100.2333563,\"ratingScore\":5,\"shopName\":\"The​pizza​company​สาขา​เซ็นทรัล​พิษณุโลก​\",\"subcategory\":\"06_ECONOMICS_G4_02\",\"id\":\"JHO2ytOCQKPFo2cyrCWPRxCX\",\"disclaimer\":\"ข้อมูลที่แสดงผลบนเว็บไซต์ เพื่อประโยชน์ในการป้องกันและควบคุมการแพร่ระบาดของโรคโควิด 19 และโรคติดต่ออื่น ๆ เท่านั้น\"},{\"address\":{\"zipCode\":\"15000\",\"province\":\"ลพบุรี\",\"addressNo\":\"74\",\"street\":\"วิชาเยนทร์\",\"provinceCode\":\"7\",\"district\":\"เมืองลพบุรี\",\"moo\":null,\"soi\":null,\"subDistrict\":\"ท่าหิน\",\"building\":null},\"businessType\":\"ธนาคาร\",\"capacity\":17,\"category\":\"ECONOMICS\",\"groupType\":\"1\",\"latitude\":14.80279511294836,\"longitude\":100.611128237986,\"ratingScore\":5,\"shopName\":\"บมจ. ธนาคารกรุงไทย สาขาถนนวิชาเยนทร์\",\"subcategory\":\"01_ECONOMICS_02\",\"id\":\"ata1iEpHgUGndUk-1818ZQn2\",\"disclaimer\":\"ข้อมูลที่แสดงผลบนเว็บไซต์ เพื่อประโยชน์ในการป้องกันและควบคุมการแพร่ระบาดของโรคโควิด 19 และโรคติดต่ออื่น ๆ เท่านั้น\"},{\"address\":{\"zipCode\":\"10120\",\"province\":\"กรุงเทพมหานคร\",\"addressNo\":\"8\",\"street\":\"เจริญกรุง\",\"provinceCode\":\"1\",\"district\":\"บางคอแหลม\",\"moo\":\"-\",\"soi\":\"-\",\"subDistrict\":\"บางคอแหลม\",\"building\":\"-\"},\"businessType\":\"ธนาคาร\",\"capacity\":8,\"category\":\"ECONOMICS\",\"groupType\":\"1\",\"latitude\":13.694431323845492,\"longitude\":100.49458118168809,\"ratingScore\":5,\"shopName\":\"บมจ.ธนาคารกรุงไทย สาขาโรงพยาบาลเจริญกรุงประชารักษ์\",\"subcategory\":\"01_ECONOMICS_02\",\"id\":\"aeURVeRCLRGiin7frQiUN97_\",\"disclaimer\":\"ข้อมูลที่แสดงผลบนเว็บไซต์ เพื่อประโยชน์ในการป้องกันและควบคุมการแพร่ระบาดของโรคโควิด 19 และโรคติดต่ออื่น ๆ เท่านั้น\"},{\"address\":{\"zipCode\":\"60000\",\"province\":\"นครสวรรค์\",\"addressNo\":\"162/18\",\"street\":\"สวรรค์วิถี\",\"provinceCode\":\"47\",\"district\":\"เมืองนครสวรรค์\",\"moo\":null,\"soi\":null,\"subDistrict\":\"ปากน้ำโพ\",\"building\":\"แฟรี่แลนด์สรรพสินค้า\"},\"businessType\":\"ธนาคาร\",\"capacity\":8,\"category\":\"ECONOMICS\",\"groupType\":\"1\",\"latitude\":15.703227434302557,\"longitude\":100.13654431965824,\"ratingScore\":5,\"shopName\":\"บมจ.ธนาคารกรุงไทย สาขาแฟรี่แลนด์สรรพสินค้า(นครสวรรค์)\",\"subcategory\":\"01_ECONOMICS_02\",\"id\":\"oHDYrMMDUP9Q6nsKpZefvr5y\",\"disclaimer\":\"ข้อมูลที่แสดงผลบนเว็บไซต์ เพื่อประโยชน์ในการป้องกันและควบคุมการแพร่ระบาดของโรคโควิด 19 และโรคติดต่ออื่น ๆ เท่านั้น\"},{\"address\":{\"zipCode\":\"57140\",\"province\":\"เชียงราย\",\"addressNo\":\"115,115/2\",\"street\":null,\"provinceCode\":\"45\",\"district\":\"เชียงของ\",\"moo\":\"12\",\"soi\":null,\"subDistrict\":\"เวียง\",\"building\":\"อาคารธนาคารกรุงไทย สาขาเชียงของ\"},\"businessType\":\"ธนาคาร\",\"capacity\":16,\"category\":\"ECONOMICS\",\"groupType\":\"1\",\"latitude\":20.26109713715002,\"longitude\":100.40696306922327,\"ratingScore\":5,\"shopName\":\"บมจ.ธนาคารกรุงไทย สาขาเชียงของ\",\"subcategory\":\"01_ECONOMICS_02\",\"id\":\"jtk1Oe6WLY_u279ecdSgsNh6\",\"disclaimer\":\"ข้อมูลที่แสดงผลบนเว็บไซต์ เพื่อประโยชน์ในการป้องกันและควบคุมการแพร่ระบาดของโรคโควิด 19 และโรคติดต่ออื่น ๆ เท่านั้น\"},{\"address\":{\"zipCode\":\"10220\",\"province\":\"กรุงเทพมหานคร\",\"addressNo\":\"109/10\",\"street\":\"รามอินทรา\",\"provinceCode\":\"1\",\"district\":\"สายไหม\",\"moo\":null,\"soi\":null,\"subDistrict\":\"คลองถนน\",\"building\":null},\"businessType\":\"ร้านอาหารหรือเครื่องดื่ม\",\"capacity\":12,\"category\":\"ECONOMICS_G4\",\"groupType\":\"4\",\"latitude\":13.8721548,\"longitude\":100.6016707,\"ratingScore\":5,\"shopName\":\"ร้าน​ S&P​ สาขาเซ็นทรัลรามอินทรา\",\"subcategory\":\"06_ECONOMICS_G4_02\",\"id\":\"qnMClX23qK_mzNirOUyae-jU\",\"disclaimer\":\"ข้อมูลที่แสดงผลบนเว็บไซต์ เพื่อประโยชน์ในการป้องกันและควบคุมการแพร่ระบาดของโรคโควิด 19 และโรคติดต่ออื่น ๆ เท่านั้น\"},{\"address\":{\"zipCode\":\"10210\",\"province\":\"กรุงเทพมหานคร\",\"addressNo\":\"183/511,512\",\"street\":null,\"provinceCode\":\"1\",\"district\":\"ดอนเมือง\",\"moo\":null,\"soi\":null,\"subDistrict\":\"ดอนเมือง\",\"building\":null},\"businessType\":\"ร้านสะดวกซื้อ\",\"capacity\":10,\"category\":\"ECONOMICS\",\"groupType\":\"1\",\"latitude\":13.8913072,\"longitude\":100.5820264,\"ratingScore\":5,\"shopName\":\"FamilyMart 0320 สาขา โกสุมสามัคคี\",\"subcategory\":\"01_ECONOMICS_01\",\"id\":\"-wD74X6CK8Wts5VCHGbEXzJn\",\"disclaimer\":\"ข้อมูลที่แสดงผลบนเว็บไซต์ เพื่อประโยชน์ในการป้องกันและควบคุมการแพร่ระบาดของโรคโควิด 19 และโรคติดต่ออื่น ๆ เท่านั้น\"},{\"address\":{\"zipCode\":\"20000\",\"province\":\"ชลบุรี\",\"addressNo\":\"888\",\"street\":null,\"provinceCode\":\"11\",\"district\":\"เมืองชลบุรี\",\"moo\":null,\"soi\":null,\"subDistrict\":\"ดอนหัวฬ่อ\",\"building\":null},\"businessType\":\"การจำหน่ายสินค้าเพื่อการอุปโภคบริโภค\",\"capacity\":6,\"category\":\"ECONOMICS_G4\",\"groupType\":\"4\",\"latitude\":13.405827961491038,\"longitude\":101.04200525081454,\"ratingScore\":5,\"shopName\":\"ห้างทองบางกอกโกลด์ส สาขา โรบินสัน ชลบุรี\",\"subcategory\":\"06_ECONOMICS_G4_02\",\"id\":\"BGDuUv6nSbkz0tR8_wYzZm5O\",\"disclaimer\":\"ข้อมูลที่แสดงผลบนเว็บไซต์ เพื่อประโยชน์ในการป้องกันและควบคุมการแพร่ระบาดของโรคโควิด 19 และโรคติดต่ออื่น ๆ เท่านั้น\"},{\"address\":{\"zipCode\":\"10270\",\"province\":\"สมุทรปราการ\",\"addressNo\":\"2502\",\"street\":null,\"provinceCode\":\"2\",\"district\":\"เมืองสมุทรปราการ\",\"moo\":\"3\",\"soi\":null,\"subDistrict\":\"บางด้วน\",\"building\":\"อาเทสโกโล้ตัส สาขาบางปู\"},\"businessType\":\"ห้างสรรพสินค้า\",\"capacity\":10,\"category\":\"ECONOMICS_G4\",\"groupType\":\"4\",\"latitude\":13.521084250062572,\"longitude\":100.66837146991357,\"ratingScore\":5,\"shopName\":\"บริษัท บาจา (ประเทศไทย) จำกัด สาขาโลตัสบางปู\",\"subcategory\":\"06_ECONOMICS_G4_02\",\"id\":\"ZpwxpLHUk35XX4r2su0qt7Zb\",\"disclaimer\":\"ข้อมูลที่แสดงผลบนเว็บไซต์ เพื่อประโยชน์ในการป้องกันและควบคุมการแพร่ระบาดของโรคโควิด 19 และโรคติดต่ออื่น ๆ เท่านั้น\"},{\"address\":{\"zipCode\":\"11120\",\"province\":\"นนทบุรี\",\"addressNo\":\"99\",\"street\":\"แจ้งวัฒนะ\",\"provinceCode\":\"3\",\"district\":\"ปากเกร็ด\",\"moo\":\"2\",\"soi\":null,\"subDistrict\":\"บางตลาด\",\"building\":\"เซ็นทรัลพลาซาแจ้งวัฒนะ ชั้น2\"},\"businessType\":\"ศูนย์การค้า\",\"capacity\":5,\"category\":\"ECONOMICS_G4\",\"groupType\":\"4\",\"latitude\":13.8526324,\"longitude\":100.5388478,\"ratingScore\":5,\"shopName\":\"G-SHOCK CASIO แจ้งวัฒนะ\",\"subcategory\":\"06_ECONOMICS_G4_02\",\"id\":\"N-ZhoV76Km28SnP0Wnm2nMx1\",\"disclaimer\":\"ข้อมูลที่แสดงผลบนเว็บไซต์ เพื่อประโยชน์ในการป้องกันและควบคุมการแพร่ระบาดของโรคโควิด 19 และโรคติดต่ออื่น ๆ เท่านั้น\"},{\"address\":{\"zipCode\":\"30130\",\"province\":\"นครราชสีมา\",\"addressNo\":\"289\",\"street\":null,\"provinceCode\":\"19\",\"district\":\"ปากช่อง\",\"moo\":null,\"soi\":null,\"subDistrict\":\"ขนงพระ\",\"building\":\"อาคารเทสโก้โลตัส\"},\"businessType\":\"ร้านอาหารหรือเครื่องดื่ม\",\"capacity\":20,\"category\":\"ECONOMICS_G4\",\"groupType\":\"4\",\"latitude\":14.7018118,\"longitude\":101.4052769,\"ratingScore\":5,\"shopName\":\"ร้านตำมั่ว สาขาโลตัสปากช่อง\",\"subcategory\":\"06_ECONOMICS_G4_02\",\"id\":\"TDhXPmSmdidGgLvAGFlH9KLo\",\"disclaimer\":\"ข้อมูลที่แสดงผลบนเว็บไซต์ เพื่อประโยชน์ในการป้องกันและควบคุมการแพร่ระบาดของโรคโควิด 19 และโรคติดต่ออื่น ๆ เท่านั้น\"},{\"address\":{\"zipCode\":\"50100\",\"province\":\"เชียงใหม่\",\"addressNo\":\"252-252/1\",\"street\":\"หฃมหิดล\",\"provinceCode\":\"38\",\"district\":\"เมืองเชียงใหม่\",\"moo\":null,\"soi\":null,\"subDistrict\":\"ป่าแดด\",\"building\":\"เลขที่ห้อง 111 ชั้น 1\"},\"businessType\":\"การจำหน่ายสินค้าเพื่อการอุปโภคบริโภค\",\"capacity\":16,\"category\":\"ECONOMICS_G4\",\"groupType\":\"4\",\"latitude\":18.7692928,\"longitude\":98.9755856,\"ratingScore\":5,\"shopName\":\"ร้าน Innisfree สาขา CentralPlaza Chiangmai Airport\",\"subcategory\":\"06_ECONOMICS_G4_02\",\"id\":\"wR1oasLvHxM8H9O3HtPMxb2b\",\"disclaimer\":\"ข้อมูลที่แสดงผลบนเว็บไซต์ เพื่อประโยชน์ในการป้องกันและควบคุมการแพร่ระบาดของโรคโควิด 19 และโรคติดต่ออื่น ๆ เท่านั้น\"},{\"address\":{\"zipCode\":\"84130\",\"province\":\"สุราษฎร์ธานี\",\"addressNo\":\"37/7-8\",\"provinceCode\":\"67\",\"street\":\"จุลจอมเกล้า\",\"district\":\"พุนพิน\",\"moo\":\"-\",\"soi\":\"-\",\"subDistrict\":\"กรูด\",\"building\":\"-\"},\"businessType\":\"ร้านจำหน่ายอาหาร\",\"capacity\":100,\"category\":\"ECONOMICS\",\"groupType\":\"01\",\"latitude\":9.109259033596,\"longitude\":99.231593824185,\"ratingScore\":5,\"shopName\":\"ร้านแม่อุไรข้าวหน้าเป็ดสาขา2\",\"subcategory\":\"01_ECONOMICS_01\",\"id\":\"DnW2myHX3nmmOjZQiEX_9DcN\",\"disclaimer\":\"ข้อมูลที่แสดงผลบนเว็บไซต์ เพื่อประโยชน์ในการป้องกันและควบคุมการแพร่ระบาดของโรคโควิด 19 และโรคติดต่ออื่น ๆ เท่านั้น\"}]}))\n",
              "new ResizeObserver(google.colab.output.resizeIframeToContent).observe(document.body)\n",
              "</script>\n"
            ],
            "text/plain": [
              "<Response [200]>"
            ]
          },
          "metadata": {
            "tags": []
          },
          "execution_count": 30
        }
      ]
    },
    {
      "cell_type": "code",
      "metadata": {
        "id": "lu7Bs7a1kAmx",
        "colab_type": "code",
        "outputId": "2c64935d-7b10-4a6a-f179-0f1f6b3d7335",
        "colab": {
          "base_uri": "https://localhost:8080/",
          "height": 434
        }
      },
      "source": [
        "# หน้าที่ 3\n",
        "post(url, {'from':20, 'size':10, \"sortBy\":\"RATING_DESC\"})  # แล้วทำไมได้ 20 items?  แล้วข้อมูลเหมือน page แรกด้วย?"
      ],
      "execution_count": 0,
      "outputs": [
        {
          "output_type": "execute_result",
          "data": {
            "text/html": [
              "\n",
              "<script src=\"https://rawgit.com/caldwell/renderjson/master/renderjson.js\"></script>\n",
              "<script>\n",
              "renderjson.set_show_to_level(1)\n",
              "document.body.appendChild(renderjson({\"shops\":[{\"address\":{\"zipCode\":\"10400\",\"province\":\"กรุงเทพมหานคร\",\"addressNo\":\"977/2\",\"provinceCode\":\"1\",\"street\":\"พหลโยธิิน\",\"district\":\"พญาไท\",\"subDistrict\":\"สามเสนใน\"},\"businessType\":\"ธนาคาร\",\"capacity\":240,\"category\":\"ECONOMICS\",\"groupType\":\"01\",\"latitude\":13.771023108805,\"longitude\":100.541012019305,\"ratingScore\":5,\"shopName\":\"บมจ.ธนาคารกรุงไทย อาคารเอสเอ็ม ทาวเวอร์ ฝ่ายตลาดทุน\",\"subcategory\":\"01_ECONOMICS_02\",\"id\":\"gKYuu3cfTNeqWg6BDy2FZZpk\",\"disclaimer\":\"ข้อมูลที่แสดงผลบนเว็บไซต์ เพื่อประโยชน์ในการป้องกันและควบคุมการแพร่ระบาดของโรคโควิด 19 และโรคติดต่ออื่น ๆ เท่านั้น\"},{\"address\":{\"zipCode\":\"39000\",\"province\":\"หนองบัวลำภู\",\"addressNo\":\"15\",\"street\":null,\"provinceCode\":\"27\",\"district\":\"เมืองหนองบัวลำภู\",\"moo\":\"2\",\"soi\":null,\"subDistrict\":\"หนองบัว\",\"building\":null},\"businessType\":\"ซุปเปอร์มาร์เก็ต\",\"capacity\":15,\"category\":\"ECONOMICS\",\"groupType\":\"1\",\"latitude\":17.1961687,\"longitude\":102.439353,\"ratingScore\":5,\"shopName\":\"เทสโก้โลตัสเอ็กเพรสตลาดกิจเจริญ\",\"subcategory\":\"01_ECONOMICS_02\",\"id\":\"oVl9--OQ5VgOihrYgVLX_M34\",\"disclaimer\":\"ข้อมูลที่แสดงผลบนเว็บไซต์ เพื่อประโยชน์ในการป้องกันและควบคุมการแพร่ระบาดของโรคโควิด 19 และโรคติดต่ออื่น ๆ เท่านั้น\"},{\"address\":{\"zipCode\":\"10400\",\"province\":\"กรุงเทพมหานคร\",\"addressNo\":\"1639/14-15\",\"street\":\"พหลโยธิน\",\"provinceCode\":\"1\",\"district\":\"พญาไท\",\"moo\":null,\"soi\":null,\"subDistrict\":\"สามเสนใน\",\"building\":null},\"businessType\":\"คลีนิกเวชกรรมเสริมความงาม\",\"capacity\":20,\"category\":\"HEALTHCARE_G4\",\"groupType\":\"4\",\"latitude\":13.795450879398159,\"longitude\":100.5497218075401,\"ratingScore\":5,\"shopName\":\"ไทเดิม คลินิกเวชกรรม สาขาสะพานควาย\",\"subcategory\":\"07_HEALTHCARE_G4_01\",\"id\":\"jr4Wei-y5PqepFc_wlS87-Jf\",\"disclaimer\":\"ข้อมูลที่แสดงผลบนเว็บไซต์ เพื่อประโยชน์ในการป้องกันและควบคุมการแพร่ระบาดของโรคโควิด 19 และโรคติดต่ออื่น ๆ เท่านั้น\"},{\"address\":{\"zipCode\":\"70000\",\"province\":\"ราชบุรี\",\"addressNo\":\"24/21\",\"street\":\"ไกรเพชร\",\"provinceCode\":\"55\",\"district\":\"เมืองราชบุรี\",\"moo\":null,\"soi\":null,\"subDistrict\":\"หน้าเมือง\",\"building\":null},\"businessType\":\"ธนาคาร\",\"capacity\":9,\"category\":\"ECONOMICS\",\"groupType\":\"1\",\"latitude\":13.538198163568522,\"longitude\":99.82126628901818,\"ratingScore\":5,\"shopName\":\"บมจ. ธนาคารกรุงไทย สาขาถนนไกรเพชร\",\"subcategory\":\"01_ECONOMICS_02\",\"id\":\"Xs-urfJZIJC5J2z9mxIqpyQ-\",\"disclaimer\":\"ข้อมูลที่แสดงผลบนเว็บไซต์ เพื่อประโยชน์ในการป้องกันและควบคุมการแพร่ระบาดของโรคโควิด 19 และโรคติดต่ออื่น ๆ เท่านั้น\"},{\"address\":{\"zipCode\":\"12140\",\"province\":\"ปทุมธานี\",\"addressNo\":\"8/1\",\"street\":null,\"provinceCode\":\"4\",\"district\":\"ลาดหลุมแก้ว\",\"moo\":\"4\",\"soi\":null,\"subDistrict\":\"ระแหง\",\"building\":null},\"businessType\":\"ร้านจำหน่ายอาหาร\",\"capacity\":15,\"category\":\"ECONOMICS\",\"groupType\":\"1\",\"latitude\":13.680412806572614,\"longitude\":100.45453463515625,\"ratingScore\":5,\"shopName\":\"เทสโก้โลตัสเอ็กเพรสสาขาตลาดลาดหลุมแก้ว\",\"subcategory\":\"01_ECONOMICS_01\",\"id\":\"vgPs5X6oXllpCezFCXwoI0iB\",\"disclaimer\":\"ข้อมูลที่แสดงผลบนเว็บไซต์ เพื่อประโยชน์ในการป้องกันและควบคุมการแพร่ระบาดของโรคโควิด 19 และโรคติดต่ออื่น ๆ เท่านั้น\"},{\"address\":{\"zipCode\":\"10600\",\"province\":\"กรุงเทพมหานคร\",\"addressNo\":\"70\",\"street\":\"อิสรภาพ\",\"provinceCode\":\"1\",\"district\":\"บางกอกใหญ่\",\"moo\":null,\"soi\":\"อิสรภาพ27\",\"subDistrict\":\"วัดอรุณ\",\"building\":null},\"businessType\":\"ร้านเสริมสวย\",\"capacity\":3,\"category\":\"ECONOMICS\",\"groupType\":\"1\",\"latitude\":13.740164183369636,\"longitude\":100.48305245107001,\"ratingScore\":5,\"shopName\":\"สาวบิวตี้&ซาลอน\",\"subcategory\":\"01_ECONOMICS_04\",\"id\":\"YAyN58Ppm0gyCau1fYnS49Wl\",\"disclaimer\":\"ข้อมูลที่แสดงผลบนเว็บไซต์ เพื่อประโยชน์ในการป้องกันและควบคุมการแพร่ระบาดของโรคโควิด 19 และโรคติดต่ออื่น ๆ เท่านั้น\"},{\"address\":{\"zipCode\":\"10600\",\"province\":\"กรุงเทพมหานคร\",\"addressNo\":\"959/3\",\"street\":\"อิสรภาพ\",\"provinceCode\":\"1\",\"district\":\"ธนบุรี\",\"moo\":null,\"soi\":null,\"subDistrict\":\"หิรัญรูจี\",\"building\":null},\"businessType\":\"การจำหน่ายสินค้าเพื่อการอุปโภคบริโภค\",\"capacity\":300,\"category\":\"ECONOMICS_G4\",\"groupType\":\"4\",\"latitude\":13.732303156082418,\"longitude\":100.49206280225955,\"ratingScore\":5,\"shopName\":\"IL GATTO & Silhouette shoes shop\",\"subcategory\":\"06_ECONOMICS_G4_02\",\"id\":\"jRJCWJE85cN0Pe8NHeUfjheL\",\"disclaimer\":\"ข้อมูลที่แสดงผลบนเว็บไซต์ เพื่อประโยชน์ในการป้องกันและควบคุมการแพร่ระบาดของโรคโควิด 19 และโรคติดต่ออื่น ๆ เท่านั้น\"},{\"address\":{\"zipCode\":\"65000\",\"province\":\"พิษณุโลก\",\"addressNo\":\"99/9\",\"street\":\"สิงห์​วัฒน์​\",\"provinceCode\":\"52\",\"district\":\"เมืองพิษณุโลก\",\"moo\":\"5\",\"soi\":null,\"subDistrict\":\"จอมทอง\",\"building\":\"เซ็นทรัล​พิษณุโลก​\"},\"businessType\":\"ร้านอาหารหรือเครื่องดื่ม\",\"capacity\":30,\"category\":\"ECONOMICS_G4\",\"groupType\":\"4\",\"latitude\":16.8402558,\"longitude\":100.2333563,\"ratingScore\":5,\"shopName\":\"The​pizza​company​สาขา​เซ็นทรัล​พิษณุโลก​\",\"subcategory\":\"06_ECONOMICS_G4_02\",\"id\":\"JHO2ytOCQKPFo2cyrCWPRxCX\",\"disclaimer\":\"ข้อมูลที่แสดงผลบนเว็บไซต์ เพื่อประโยชน์ในการป้องกันและควบคุมการแพร่ระบาดของโรคโควิด 19 และโรคติดต่ออื่น ๆ เท่านั้น\"},{\"address\":{\"zipCode\":\"15000\",\"province\":\"ลพบุรี\",\"addressNo\":\"74\",\"street\":\"วิชาเยนทร์\",\"provinceCode\":\"7\",\"district\":\"เมืองลพบุรี\",\"moo\":null,\"soi\":null,\"subDistrict\":\"ท่าหิน\",\"building\":null},\"businessType\":\"ธนาคาร\",\"capacity\":17,\"category\":\"ECONOMICS\",\"groupType\":\"1\",\"latitude\":14.80279511294836,\"longitude\":100.611128237986,\"ratingScore\":5,\"shopName\":\"บมจ. ธนาคารกรุงไทย สาขาถนนวิชาเยนทร์\",\"subcategory\":\"01_ECONOMICS_02\",\"id\":\"ata1iEpHgUGndUk-1818ZQn2\",\"disclaimer\":\"ข้อมูลที่แสดงผลบนเว็บไซต์ เพื่อประโยชน์ในการป้องกันและควบคุมการแพร่ระบาดของโรคโควิด 19 และโรคติดต่ออื่น ๆ เท่านั้น\"},{\"address\":{\"zipCode\":\"10120\",\"province\":\"กรุงเทพมหานคร\",\"addressNo\":\"8\",\"street\":\"เจริญกรุง\",\"provinceCode\":\"1\",\"district\":\"บางคอแหลม\",\"moo\":\"-\",\"soi\":\"-\",\"subDistrict\":\"บางคอแหลม\",\"building\":\"-\"},\"businessType\":\"ธนาคาร\",\"capacity\":8,\"category\":\"ECONOMICS\",\"groupType\":\"1\",\"latitude\":13.694431323845492,\"longitude\":100.49458118168809,\"ratingScore\":5,\"shopName\":\"บมจ.ธนาคารกรุงไทย สาขาโรงพยาบาลเจริญกรุงประชารักษ์\",\"subcategory\":\"01_ECONOMICS_02\",\"id\":\"aeURVeRCLRGiin7frQiUN97_\",\"disclaimer\":\"ข้อมูลที่แสดงผลบนเว็บไซต์ เพื่อประโยชน์ในการป้องกันและควบคุมการแพร่ระบาดของโรคโควิด 19 และโรคติดต่ออื่น ๆ เท่านั้น\"},{\"address\":{\"zipCode\":\"60000\",\"province\":\"นครสวรรค์\",\"addressNo\":\"162/18\",\"street\":\"สวรรค์วิถี\",\"provinceCode\":\"47\",\"district\":\"เมืองนครสวรรค์\",\"moo\":null,\"soi\":null,\"subDistrict\":\"ปากน้ำโพ\",\"building\":\"แฟรี่แลนด์สรรพสินค้า\"},\"businessType\":\"ธนาคาร\",\"capacity\":8,\"category\":\"ECONOMICS\",\"groupType\":\"1\",\"latitude\":15.703227434302557,\"longitude\":100.13654431965824,\"ratingScore\":5,\"shopName\":\"บมจ.ธนาคารกรุงไทย สาขาแฟรี่แลนด์สรรพสินค้า(นครสวรรค์)\",\"subcategory\":\"01_ECONOMICS_02\",\"id\":\"oHDYrMMDUP9Q6nsKpZefvr5y\",\"disclaimer\":\"ข้อมูลที่แสดงผลบนเว็บไซต์ เพื่อประโยชน์ในการป้องกันและควบคุมการแพร่ระบาดของโรคโควิด 19 และโรคติดต่ออื่น ๆ เท่านั้น\"},{\"address\":{\"zipCode\":\"57140\",\"province\":\"เชียงราย\",\"addressNo\":\"115,115/2\",\"street\":null,\"provinceCode\":\"45\",\"district\":\"เชียงของ\",\"moo\":\"12\",\"soi\":null,\"subDistrict\":\"เวียง\",\"building\":\"อาคารธนาคารกรุงไทย สาขาเชียงของ\"},\"businessType\":\"ธนาคาร\",\"capacity\":16,\"category\":\"ECONOMICS\",\"groupType\":\"1\",\"latitude\":20.26109713715002,\"longitude\":100.40696306922327,\"ratingScore\":5,\"shopName\":\"บมจ.ธนาคารกรุงไทย สาขาเชียงของ\",\"subcategory\":\"01_ECONOMICS_02\",\"id\":\"jtk1Oe6WLY_u279ecdSgsNh6\",\"disclaimer\":\"ข้อมูลที่แสดงผลบนเว็บไซต์ เพื่อประโยชน์ในการป้องกันและควบคุมการแพร่ระบาดของโรคโควิด 19 และโรคติดต่ออื่น ๆ เท่านั้น\"},{\"address\":{\"zipCode\":\"10220\",\"province\":\"กรุงเทพมหานคร\",\"addressNo\":\"109/10\",\"street\":\"รามอินทรา\",\"provinceCode\":\"1\",\"district\":\"สายไหม\",\"moo\":null,\"soi\":null,\"subDistrict\":\"คลองถนน\",\"building\":null},\"businessType\":\"ร้านอาหารหรือเครื่องดื่ม\",\"capacity\":12,\"category\":\"ECONOMICS_G4\",\"groupType\":\"4\",\"latitude\":13.8721548,\"longitude\":100.6016707,\"ratingScore\":5,\"shopName\":\"ร้าน​ S&P​ สาขาเซ็นทรัลรามอินทรา\",\"subcategory\":\"06_ECONOMICS_G4_02\",\"id\":\"qnMClX23qK_mzNirOUyae-jU\",\"disclaimer\":\"ข้อมูลที่แสดงผลบนเว็บไซต์ เพื่อประโยชน์ในการป้องกันและควบคุมการแพร่ระบาดของโรคโควิด 19 และโรคติดต่ออื่น ๆ เท่านั้น\"},{\"address\":{\"zipCode\":\"10210\",\"province\":\"กรุงเทพมหานคร\",\"addressNo\":\"183/511,512\",\"street\":null,\"provinceCode\":\"1\",\"district\":\"ดอนเมือง\",\"moo\":null,\"soi\":null,\"subDistrict\":\"ดอนเมือง\",\"building\":null},\"businessType\":\"ร้านสะดวกซื้อ\",\"capacity\":10,\"category\":\"ECONOMICS\",\"groupType\":\"1\",\"latitude\":13.8913072,\"longitude\":100.5820264,\"ratingScore\":5,\"shopName\":\"FamilyMart 0320 สาขา โกสุมสามัคคี\",\"subcategory\":\"01_ECONOMICS_01\",\"id\":\"-wD74X6CK8Wts5VCHGbEXzJn\",\"disclaimer\":\"ข้อมูลที่แสดงผลบนเว็บไซต์ เพื่อประโยชน์ในการป้องกันและควบคุมการแพร่ระบาดของโรคโควิด 19 และโรคติดต่ออื่น ๆ เท่านั้น\"},{\"address\":{\"zipCode\":\"20000\",\"province\":\"ชลบุรี\",\"addressNo\":\"888\",\"street\":null,\"provinceCode\":\"11\",\"district\":\"เมืองชลบุรี\",\"moo\":null,\"soi\":null,\"subDistrict\":\"ดอนหัวฬ่อ\",\"building\":null},\"businessType\":\"การจำหน่ายสินค้าเพื่อการอุปโภคบริโภค\",\"capacity\":6,\"category\":\"ECONOMICS_G4\",\"groupType\":\"4\",\"latitude\":13.405827961491038,\"longitude\":101.04200525081454,\"ratingScore\":5,\"shopName\":\"ห้างทองบางกอกโกลด์ส สาขา โรบินสัน ชลบุรี\",\"subcategory\":\"06_ECONOMICS_G4_02\",\"id\":\"BGDuUv6nSbkz0tR8_wYzZm5O\",\"disclaimer\":\"ข้อมูลที่แสดงผลบนเว็บไซต์ เพื่อประโยชน์ในการป้องกันและควบคุมการแพร่ระบาดของโรคโควิด 19 และโรคติดต่ออื่น ๆ เท่านั้น\"},{\"address\":{\"zipCode\":\"10270\",\"province\":\"สมุทรปราการ\",\"addressNo\":\"2502\",\"street\":null,\"provinceCode\":\"2\",\"district\":\"เมืองสมุทรปราการ\",\"moo\":\"3\",\"soi\":null,\"subDistrict\":\"บางด้วน\",\"building\":\"อาเทสโกโล้ตัส สาขาบางปู\"},\"businessType\":\"ห้างสรรพสินค้า\",\"capacity\":10,\"category\":\"ECONOMICS_G4\",\"groupType\":\"4\",\"latitude\":13.521084250062572,\"longitude\":100.66837146991357,\"ratingScore\":5,\"shopName\":\"บริษัท บาจา (ประเทศไทย) จำกัด สาขาโลตัสบางปู\",\"subcategory\":\"06_ECONOMICS_G4_02\",\"id\":\"ZpwxpLHUk35XX4r2su0qt7Zb\",\"disclaimer\":\"ข้อมูลที่แสดงผลบนเว็บไซต์ เพื่อประโยชน์ในการป้องกันและควบคุมการแพร่ระบาดของโรคโควิด 19 และโรคติดต่ออื่น ๆ เท่านั้น\"},{\"address\":{\"zipCode\":\"11120\",\"province\":\"นนทบุรี\",\"addressNo\":\"99\",\"street\":\"แจ้งวัฒนะ\",\"provinceCode\":\"3\",\"district\":\"ปากเกร็ด\",\"moo\":\"2\",\"soi\":null,\"subDistrict\":\"บางตลาด\",\"building\":\"เซ็นทรัลพลาซาแจ้งวัฒนะ ชั้น2\"},\"businessType\":\"ศูนย์การค้า\",\"capacity\":5,\"category\":\"ECONOMICS_G4\",\"groupType\":\"4\",\"latitude\":13.8526324,\"longitude\":100.5388478,\"ratingScore\":5,\"shopName\":\"G-SHOCK CASIO แจ้งวัฒนะ\",\"subcategory\":\"06_ECONOMICS_G4_02\",\"id\":\"N-ZhoV76Km28SnP0Wnm2nMx1\",\"disclaimer\":\"ข้อมูลที่แสดงผลบนเว็บไซต์ เพื่อประโยชน์ในการป้องกันและควบคุมการแพร่ระบาดของโรคโควิด 19 และโรคติดต่ออื่น ๆ เท่านั้น\"},{\"address\":{\"zipCode\":\"30130\",\"province\":\"นครราชสีมา\",\"addressNo\":\"289\",\"street\":null,\"provinceCode\":\"19\",\"district\":\"ปากช่อง\",\"moo\":null,\"soi\":null,\"subDistrict\":\"ขนงพระ\",\"building\":\"อาคารเทสโก้โลตัส\"},\"businessType\":\"ร้านอาหารหรือเครื่องดื่ม\",\"capacity\":20,\"category\":\"ECONOMICS_G4\",\"groupType\":\"4\",\"latitude\":14.7018118,\"longitude\":101.4052769,\"ratingScore\":5,\"shopName\":\"ร้านตำมั่ว สาขาโลตัสปากช่อง\",\"subcategory\":\"06_ECONOMICS_G4_02\",\"id\":\"TDhXPmSmdidGgLvAGFlH9KLo\",\"disclaimer\":\"ข้อมูลที่แสดงผลบนเว็บไซต์ เพื่อประโยชน์ในการป้องกันและควบคุมการแพร่ระบาดของโรคโควิด 19 และโรคติดต่ออื่น ๆ เท่านั้น\"},{\"address\":{\"zipCode\":\"50100\",\"province\":\"เชียงใหม่\",\"addressNo\":\"252-252/1\",\"street\":\"หฃมหิดล\",\"provinceCode\":\"38\",\"district\":\"เมืองเชียงใหม่\",\"moo\":null,\"soi\":null,\"subDistrict\":\"ป่าแดด\",\"building\":\"เลขที่ห้อง 111 ชั้น 1\"},\"businessType\":\"การจำหน่ายสินค้าเพื่อการอุปโภคบริโภค\",\"capacity\":16,\"category\":\"ECONOMICS_G4\",\"groupType\":\"4\",\"latitude\":18.7692928,\"longitude\":98.9755856,\"ratingScore\":5,\"shopName\":\"ร้าน Innisfree สาขา CentralPlaza Chiangmai Airport\",\"subcategory\":\"06_ECONOMICS_G4_02\",\"id\":\"wR1oasLvHxM8H9O3HtPMxb2b\",\"disclaimer\":\"ข้อมูลที่แสดงผลบนเว็บไซต์ เพื่อประโยชน์ในการป้องกันและควบคุมการแพร่ระบาดของโรคโควิด 19 และโรคติดต่ออื่น ๆ เท่านั้น\"},{\"address\":{\"zipCode\":\"84130\",\"province\":\"สุราษฎร์ธานี\",\"addressNo\":\"37/7-8\",\"provinceCode\":\"67\",\"street\":\"จุลจอมเกล้า\",\"district\":\"พุนพิน\",\"moo\":\"-\",\"soi\":\"-\",\"subDistrict\":\"กรูด\",\"building\":\"-\"},\"businessType\":\"ร้านจำหน่ายอาหาร\",\"capacity\":100,\"category\":\"ECONOMICS\",\"groupType\":\"01\",\"latitude\":9.109259033596,\"longitude\":99.231593824185,\"ratingScore\":5,\"shopName\":\"ร้านแม่อุไรข้าวหน้าเป็ดสาขา2\",\"subcategory\":\"01_ECONOMICS_01\",\"id\":\"DnW2myHX3nmmOjZQiEX_9DcN\",\"disclaimer\":\"ข้อมูลที่แสดงผลบนเว็บไซต์ เพื่อประโยชน์ในการป้องกันและควบคุมการแพร่ระบาดของโรคโควิด 19 และโรคติดต่ออื่น ๆ เท่านั้น\"}]}))\n",
              "new ResizeObserver(google.colab.output.resizeIframeToContent).observe(document.body)\n",
              "</script>\n"
            ],
            "text/plain": [
              "<Response [200]>"
            ]
          },
          "metadata": {
            "tags": []
          },
          "execution_count": 33
        }
      ]
    },
    {
      "cell_type": "code",
      "metadata": {
        "id": "24Lx3QCUker9",
        "colab_type": "code",
        "outputId": "484d3d86-57e7-469e-dbf9-d610d76edce4",
        "colab": {
          "base_uri": "https://localhost:8080/",
          "height": 55
        }
      },
      "source": [
        "!curl 'https://api-search.thaichana.com/shop/search'  -H 'Accept-Language: en-US,en;q=0.5' --compressed -H 'Content-Type: application/json;charset=utf-8' -H 'Origin: https://merchant.thaichana.com' -H 'Connection: keep-alive' -H 'Referer: https://merchant.thaichana.com/search?size=10&page=1&category=%E0%B8%97%E0%B8%B8%E0%B8%81%E0%B8%9B%E0%B8%A3%E0%B8%B0%E0%B9%80%E0%B8%A0%E0%B8%97&province=%E0%B9%83%E0%B8%81%E0%B8%A5%E0%B9%89%E0%B8%89%E0%B8%B1%E0%B8%99&rating=0&passQuestionnaire=false&lockLatLong=false' -H 'TE: Trailers' --data-raw '{\"from\":20,\"size\":10,\"sortBy\":\"RATING_DESC\"}'"
      ],
      "execution_count": 0,
      "outputs": [
        {
          "output_type": "stream",
          "text": [
            "{\"shops\":[{\"address\":{\"zipCode\":\"65000\",\"province\":\"พิษณุโลก\",\"addressNo\":\"1/21\",\"street\":\"พญาเสือ\",\"provinceCode\":\"52\",\"district\":\"เมืองพิษณุโลก\",\"moo\":null,\"soi\":null,\"subDistrict\":\"จอมทอง\",\"building\":null},\"businessType\":\"ร้านจำหน่ายเครื่องดื่ม\",\"capacity\":8,\"category\":\"ECONOMICS\",\"groupType\":\"1\",\"latitude\":16.825501957839403,\"longitude\":100.26635572683162,\"ratingScore\":5,\"shopName\":\"คาโซกุค๊อฟฟี่เฮาส์\",\"subcategory\":\"01_ECONOMICS_01\",\"id\":\"5FDrDvyPoFRQ2ZUyA2yvbsS4\",\"disclaimer\":\"ข้อมูลที่แสดงผลบนเว็บไซต์ เพื่อประโยชน์ในการป้องกันและควบคุมการแพร่ระบาดของโรคโควิด 19 และโรคติดต่ออื่น ๆ เท่านั้น\"},{\"address\":{\"zipCode\":\"10110\",\"province\":\"กรุงเทพมหานคร\",\"addressNo\":\"693,695\",\"street\":\"สุขุมวิท\",\"provinceCode\":\"1\",\"district\":\"วัฒนา\",\"moo\":null,\"soi\":null,\"subDistrict\":\"คลองตันเหนือ\",\"building\":\"Emquartier\"},\"businessType\":\"ร้านค้าปลีก/ค้าส่ง\",\"capacity\":14,\"category\":\"ECONOMICS_G4\",\"groupType\":\"4\",\"latitude\":13.73197941940014,\"longitude\":100.56970474601536,\"ratingScore\":5,\"shopName\":\"STELLA McCARTNEY\",\"subcategory\":\"06_ECONOMICS_G4_03\",\"id\":\"tJzEnsu1tqGtS3kWSiWXE9Qa\",\"disclaimer\":\"ข้อมูลที่แสดงผลบนเว็บไซต์ เพื่อประโยชน์ในการป้องกันและควบคุมการแพร่ระบาดของโรคโควิด 19 และโรคติดต่ออื่น ๆ เท่านั้น\"},{\"address\":{\"zipCode\":\"21000\",\"province\":\"ระยอง\",\"addressNo\":\"99,99/1 ห้องเลขที่181 ชั้น1\",\"street\":\"บางนา-ตราด\",\"provinceCode\":\"12\",\"district\":\"เมืองระยอง\",\"moo\":\"-\",\"soi\":\"-\",\"subDistrict\":\"เชิงเนิน\",\"building\":\"ศูนย์การค้าเซ็นทรัลพลาซาระยอง\"},\"businessType\":\"ห้างสรรพสินค้า\",\"capacity\":17,\"category\":\"ECONOMICS_G4\",\"groupType\":\"4\",\"latitude\":12.683000143849444,\"longitude\":101.2764572654521,\"ratingScore\":5,\"shopName\":\"ร้าน anello\",\"subcategory\":\"06_ECONOMICS_G4_02\",\"id\":\"0YkXDksPk0u8KjwhWMl8xJrp\",\"disclaimer\":\"ข้อมูลที่แสดงผลบนเว็บไซต์ เพื่อประโยชน์ในการป้องกันและควบคุมการแพร่ระบาดของโรคโควิด 19 และโรคติดต่ออื่น ๆ เท่านั้น\"},{\"address\":{\"zipCode\":\"72000\",\"province\":\"สุพรรณบุรี\",\"addressNo\":\"293\",\"street\":\"สุพรรณ-ชัยนาท\",\"provinceCode\":\"57\",\"district\":\"เมืองสุพรรณบุรี\",\"moo\":\"5\",\"soi\":null,\"subDistrict\":\"ท่าระหัด\",\"building\":null},\"businessType\":\"ห้างสรรพสินค้า\",\"capacity\":8,\"category\":\"ECONOMICS_G4\",\"groupType\":\"4\",\"latitude\":14.50158,\"longitude\":100.12851500000001,\"ratingScore\":5,\"shopName\":\"ร้านบาจาสาขาโลตัสสุพรรณบุรี\",\"subcategory\":\"06_ECONOMICS_G4_02\",\"id\":\"m_3HbpIMpGfhHpuzw-T-jQo4\",\"disclaimer\":\"ข้อมูลที่แสดงผลบนเว็บไซต์ เพื่อประโยชน์ในการป้องกันและควบคุมการแพร่ระบาดของโรคโควิด 19 และโรคติดต่ออื่น ๆ เท่านั้น\"},{\"address\":{\"zipCode\":\"10150\",\"province\":\"กรุงเทพมหานคร\",\"addressNo\":\"9/174-176\",\"street\":\"สะแกงาม\",\"provinceCode\":\"1\",\"district\":\"บางขุนเทียน\",\"moo\":\"1\",\"soi\":\"สะแกงาม 35/2\",\"subDistrict\":\"แสมดำ\",\"building\":null},\"businessType\":\"ซุปเปอร์มาร์เก็ต\",\"capacity\":15,\"category\":\"ECONOMICS\",\"groupType\":\"1\",\"latitude\":13.6039962,\"longitude\":100.559764,\"ratingScore\":5,\"shopName\":\"เทสโก้ โลตัส เอ็กซ์เพรส สะแกงาม\",\"subcategory\":\"01_ECONOMICS_02\",\"id\":\"iFI1c408JTyJpWpZjUVgfzuB\",\"disclaimer\":\"ข้อมูลที่แสดงผลบนเว็บไซต์ เพื่อประโยชน์ในการป้องกันและควบคุมการแพร่ระบาดของโรคโควิด 19 และโรคติดต่ออื่น ๆ เท่านั้น\"},{\"address\":{\"zipCode\":\"10510\",\"province\":\"กรุงเทพมหานคร\",\"addressNo\":\"811,813\",\"street\":\"พระยาสุเรนทร์\",\"provinceCode\":\"1\",\"district\":\"คลองสามวา\",\"moo\":null,\"soi\":\"25\",\"subDistrict\":\"ทรายกองดิน\",\"building\":\"โลตัสรามอินทรา109\"},\"businessType\":\"ภัตตาคาร\",\"capacity\":15,\"category\":\"ECONOMICS_G4\",\"groupType\":\"4\",\"latitude\":13.8361406,\"longitude\":100.6969627,\"ratingScore\":5,\"shopName\":\"KFC โลตัสรามอินทรา109 1520\",\"subcategory\":\"06_ECONOMICS_G4_01\",\"id\":\"Wnxp6IO2DSm996UAeQJvXR2g\",\"disclaimer\":\"ข้อมูลที่แสดงผลบนเว็บไซต์ เพื่อประโยชน์ในการป้องกันและควบคุมการแพร่ระบาดของโรคโควิด 19 และโรคติดต่ออื่น ๆ เท่านั้น\"},{\"address\":{\"zipCode\":\"77110\",\"province\":\"ประจวบคีรีขันธ์\",\"addressNo\":\"8/89\",\"provinceCode\":\"62\",\"street\":\"ถนนเพชรเกษม\",\"district\":\"หัวหิน\",\"soi\":\"ซอยหมู่บ้านหนองแก\",\"subDistrict\":\"หนองแก\",\"building\":\"ศูนย์การค้าบลูพอร์ตหัวหินรีสอร์ตมอลล์\"},\"businessType\":\"ร้านเสริมสวย แต่งผม ตัดผม หรือทำเล็บ\",\"capacity\":9,\"category\":\"ECONOMICS_G4\",\"groupType\":\"04\",\"latitude\":12.547637346756,\"longitude\":99.962042631516,\"ratingScore\":5,\"shopName\":\"Chic Hair Station สาขาบลูพอร์ต\",\"subcategory\":\"06_ECONOMICS_G4_02\",\"id\":\"zP0Qbv_svi9wcmHByL3BEQRS\",\"disclaimer\":\"ข้อมูลที่แสดงผลบนเว็บไซต์ เพื่อประโยชน์ในการป้องกันและควบคุมการแพร่ระบาดของโรคโควิด 19 และโรคติดต่ออื่น ๆ เท่านั้น\"},{\"address\":{\"zipCode\":\"48000\",\"province\":\"นครพนม\",\"addressNo\":\"335/2\",\"street\":\"นิตโย\",\"provinceCode\":\"36\",\"district\":\"เมืองนครพนม\",\"moo\":null,\"soi\":null,\"subDistrict\":\"กุรุคุ\",\"building\":null},\"businessType\":\"ศูนย์การค้า\",\"capacity\":20,\"category\":\"ECONOMICS_G4\",\"groupType\":\"4\",\"latitude\":17.3949769481973,\"longitude\":104.77973602813908,\"ratingScore\":5,\"shopName\":\"BaNANA สาขาโลตัสนครพนม\",\"subcategory\":\"06_ECONOMICS_G4_02\",\"id\":\"T2V4lNP3rlFclCVeWQq1pHwS\",\"disclaimer\":\"ข้อมูลที่แสดงผลบนเว็บไซต์ เพื่อประโยชน์ในการป้องกันและควบคุมการแพร่ระบาดของโรคโควิด 19 และโรคติดต่ออื่น ๆ เท่านั้น\"},{\"address\":{\"zipCode\":\"31110\",\"province\":\"บุรีรัมย์\",\"addressNo\":\"904/7\",\"street\":\"ถนนโชคชัย-เดชอุดม\",\"provinceCode\":\"20\",\"district\":\"นางรอง\",\"moo\":null,\"soi\":null,\"subDistrict\":\"นางรอง\",\"building\":\"เทสโก้โลตัสนางรอง\"},\"businessType\":\"ศูนย์การค้า\",\"capacity\":10,\"category\":\"ECONOMICS_G4\",\"groupType\":\"4\",\"latitude\":14.63721234887242,\"longitude\":102.77656958413087,\"ratingScore\":5,\"shopName\":\"ร้านYNOสาขาเทสโก้โลตัสนางรอง\",\"subcategory\":\"06_ECONOMICS_G4_02\",\"id\":\"XprJpLa-ko8UZwPIRiUk8rh2\",\"disclaimer\":\"ข้อมูลที่แสดงผลบนเว็บไซต์ เพื่อประโยชน์ในการป้องกันและควบคุมการแพร่ระบาดของโรคโควิด 19 และโรคติดต่ออื่น ๆ เท่านั้น\"},{\"address\":{\"zipCode\":\"10540\",\"province\":\"สมุทรปราการ\",\"addressNo\":\"38,39\",\"street\":\"บางนาตราด กม.8\",\"provinceCode\":\"2\",\"district\":\"บางพลี\",\"moo\":\"6\",\"soi\":null,\"subDistrict\":\"บางแก้ว\",\"building\":null},\"businessType\":\"ร้านจำหน่ายอาหาร\",\"capacity\":97,\"category\":\"ECONOMICS\",\"groupType\":\"1\",\"latitude\":13.647336208664129,\"longitude\":100.68193811248703,\"ratingScore\":5,\"shopName\":\"Starbucks (Megabangna2)\",\"subcategory\":\"01_ECONOMICS_01\",\"id\":\"ysRZ1MuLrqlv7cvEo5kwnWtL\",\"disclaimer\":\"ข้อมูลที่แสดงผลบนเว็บไซต์ เพื่อประโยชน์ในการป้องกันและควบคุมการแพร่ระบาดของโรคโควิด 19 และโรคติดต่ออื่น ๆ เท่านั้น\"}]}"
          ],
          "name": "stdout"
        }
      ]
    },
    {
      "cell_type": "code",
      "metadata": {
        "id": "Ed4N1zrXluRO",
        "colab_type": "code",
        "outputId": "37e37fc3-791b-4be8-f071-1e6cdd106d5f",
        "colab": {
          "base_uri": "https://localhost:8080/",
          "height": 69
        }
      },
      "source": [
        "# เอา id พวกนี้มายากจริง.  หรือต้องทำบน browser ดี?  เอาจังหวัดเดียว ง่ายๆ ก่อนละกัน\n",
        "data = {\"province\":\"กระบี่\",\"size\":10,\"sortBy\":\"RATING_DESC\"}\n",
        "post(url, data)  # นั่นไง  ให้ข้อมูลหลอกซะได้."
      ],
      "execution_count": 0,
      "outputs": [
        {
          "output_type": "execute_result",
          "data": {
            "text/html": [
              "\n",
              "<script src=\"https://rawgit.com/caldwell/renderjson/master/renderjson.js\"></script>\n",
              "<script>\n",
              "renderjson.set_show_to_level(1)\n",
              "document.body.appendChild(renderjson({\"shops\":[{\"address\":{\"zipCode\":\"10400\",\"province\":\"กรุงเทพมหานคร\",\"addressNo\":\"977/2\",\"provinceCode\":\"1\",\"street\":\"พหลโยธิิน\",\"district\":\"พญาไท\",\"subDistrict\":\"สามเสนใน\"},\"businessType\":\"ธนาคาร\",\"capacity\":240,\"category\":\"ECONOMICS\",\"groupType\":\"01\",\"latitude\":13.771023108805,\"longitude\":100.541012019305,\"ratingScore\":5,\"shopName\":\"บมจ.ธนาคารกรุงไทย อาคารเอสเอ็ม ทาวเวอร์ ฝ่ายตลาดทุน\",\"subcategory\":\"01_ECONOMICS_02\",\"id\":\"gKYuu3cfTNeqWg6BDy2FZZpk\",\"disclaimer\":\"ข้อมูลที่แสดงผลบนเว็บไซต์ เพื่อประโยชน์ในการป้องกันและควบคุมการแพร่ระบาดของโรคโควิด 19 และโรคติดต่ออื่น ๆ เท่านั้น\"},{\"address\":{\"zipCode\":\"10120\",\"province\":\"กรุงเทพมหานคร\",\"addressNo\":\"8\",\"street\":\"เจริญกรุง\",\"provinceCode\":\"1\",\"district\":\"บางคอแหลม\",\"moo\":\"-\",\"soi\":\"-\",\"subDistrict\":\"บางคอแหลม\",\"building\":\"-\"},\"businessType\":\"ธนาคาร\",\"capacity\":8,\"category\":\"ECONOMICS\",\"groupType\":\"1\",\"latitude\":13.694431323845492,\"longitude\":100.49458118168809,\"ratingScore\":5,\"shopName\":\"บมจ.ธนาคารกรุงไทย สาขาโรงพยาบาลเจริญกรุงประชารักษ์\",\"subcategory\":\"01_ECONOMICS_02\",\"id\":\"aeURVeRCLRGiin7frQiUN97_\",\"disclaimer\":\"ข้อมูลที่แสดงผลบนเว็บไซต์ เพื่อประโยชน์ในการป้องกันและควบคุมการแพร่ระบาดของโรคโควิด 19 และโรคติดต่ออื่น ๆ เท่านั้น\"},{\"address\":{\"zipCode\":\"10400\",\"province\":\"กรุงเทพมหานคร\",\"addressNo\":\"1639/14-15\",\"street\":\"พหลโยธิน\",\"provinceCode\":\"1\",\"district\":\"พญาไท\",\"moo\":null,\"soi\":null,\"subDistrict\":\"สามเสนใน\",\"building\":null},\"businessType\":\"คลีนิกเวชกรรมเสริมความงาม\",\"capacity\":20,\"category\":\"HEALTHCARE_G4\",\"groupType\":\"4\",\"latitude\":13.795450879398159,\"longitude\":100.5497218075401,\"ratingScore\":5,\"shopName\":\"ไทเดิม คลินิกเวชกรรม สาขาสะพานควาย\",\"subcategory\":\"07_HEALTHCARE_G4_01\",\"id\":\"jr4Wei-y5PqepFc_wlS87-Jf\",\"disclaimer\":\"ข้อมูลที่แสดงผลบนเว็บไซต์ เพื่อประโยชน์ในการป้องกันและควบคุมการแพร่ระบาดของโรคโควิด 19 และโรคติดต่ออื่น ๆ เท่านั้น\"},{\"address\":{\"zipCode\":\"10600\",\"province\":\"กรุงเทพมหานคร\",\"addressNo\":\"129\",\"street\":\"รัชดาภิเษก (ตากสิน-ท่าพระ)\",\"provinceCode\":\"1\",\"district\":\"ธนบุรี\",\"moo\":null,\"soi\":null,\"subDistrict\":\"บุคคโล\",\"building\":null},\"businessType\":\"การจำหน่ายสินค้าเพื่อการอุปโภคบริโภค\",\"capacity\":7,\"category\":\"ECONOMICS_G4\",\"groupType\":\"4\",\"latitude\":13.713029254006607,\"longitude\":100.47958253613639,\"ratingScore\":5,\"shopName\":\"ห้างทองศรีทอง\",\"subcategory\":\"06_ECONOMICS_G4_02\",\"id\":\"Av6LgQZ8Bw_mtDTWi1OLqi3N\",\"disclaimer\":\"ข้อมูลที่แสดงผลบนเว็บไซต์ เพื่อประโยชน์ในการป้องกันและควบคุมการแพร่ระบาดของโรคโควิด 19 และโรคติดต่ออื่น ๆ เท่านั้น\"},{\"address\":{\"zipCode\":\"70000\",\"province\":\"ราชบุรี\",\"addressNo\":\"24/21\",\"street\":\"ไกรเพชร\",\"provinceCode\":\"55\",\"district\":\"เมืองราชบุรี\",\"moo\":null,\"soi\":null,\"subDistrict\":\"หน้าเมือง\",\"building\":null},\"businessType\":\"ธนาคาร\",\"capacity\":9,\"category\":\"ECONOMICS\",\"groupType\":\"1\",\"latitude\":13.538198163568522,\"longitude\":99.82126628901818,\"ratingScore\":5,\"shopName\":\"บมจ. ธนาคารกรุงไทย สาขาถนนไกรเพชร\",\"subcategory\":\"01_ECONOMICS_02\",\"id\":\"Xs-urfJZIJC5J2z9mxIqpyQ-\",\"disclaimer\":\"ข้อมูลที่แสดงผลบนเว็บไซต์ เพื่อประโยชน์ในการป้องกันและควบคุมการแพร่ระบาดของโรคโควิด 19 และโรคติดต่ออื่น ๆ เท่านั้น\"},{\"address\":{\"zipCode\":\"10600\",\"province\":\"กรุงเทพมหานคร\",\"addressNo\":\"70\",\"street\":\"อิสรภาพ\",\"provinceCode\":\"1\",\"district\":\"บางกอกใหญ่\",\"moo\":null,\"soi\":\"อิสรภาพ27\",\"subDistrict\":\"วัดอรุณ\",\"building\":null},\"businessType\":\"ร้านเสริมสวย\",\"capacity\":3,\"category\":\"ECONOMICS\",\"groupType\":\"1\",\"latitude\":13.740164183369636,\"longitude\":100.48305245107001,\"ratingScore\":5,\"shopName\":\"สาวบิวตี้&ซาลอน\",\"subcategory\":\"01_ECONOMICS_04\",\"id\":\"YAyN58Ppm0gyCau1fYnS49Wl\",\"disclaimer\":\"ข้อมูลที่แสดงผลบนเว็บไซต์ เพื่อประโยชน์ในการป้องกันและควบคุมการแพร่ระบาดของโรคโควิด 19 และโรคติดต่ออื่น ๆ เท่านั้น\"},{\"address\":{\"zipCode\":\"10600\",\"province\":\"กรุงเทพมหานคร\",\"addressNo\":\"959/3\",\"street\":\"อิสรภาพ\",\"provinceCode\":\"1\",\"district\":\"ธนบุรี\",\"moo\":null,\"soi\":null,\"subDistrict\":\"หิรัญรูจี\",\"building\":null},\"businessType\":\"การจำหน่ายสินค้าเพื่อการอุปโภคบริโภค\",\"capacity\":300,\"category\":\"ECONOMICS_G4\",\"groupType\":\"4\",\"latitude\":13.732303156082418,\"longitude\":100.49206280225955,\"ratingScore\":5,\"shopName\":\"IL GATTO & Silhouette shoes shop\",\"subcategory\":\"06_ECONOMICS_G4_02\",\"id\":\"jRJCWJE85cN0Pe8NHeUfjheL\",\"disclaimer\":\"ข้อมูลที่แสดงผลบนเว็บไซต์ เพื่อประโยชน์ในการป้องกันและควบคุมการแพร่ระบาดของโรคโควิด 19 และโรคติดต่ออื่น ๆ เท่านั้น\"},{\"address\":{\"zipCode\":\"15000\",\"province\":\"ลพบุรี\",\"addressNo\":\"74\",\"street\":\"วิชาเยนทร์\",\"provinceCode\":\"7\",\"district\":\"เมืองลพบุรี\",\"moo\":null,\"soi\":null,\"subDistrict\":\"ท่าหิน\",\"building\":null},\"businessType\":\"ธนาคาร\",\"capacity\":17,\"category\":\"ECONOMICS\",\"groupType\":\"1\",\"latitude\":14.80279511294836,\"longitude\":100.611128237986,\"ratingScore\":5,\"shopName\":\"บมจ. ธนาคารกรุงไทย สาขาถนนวิชาเยนทร์\",\"subcategory\":\"01_ECONOMICS_02\",\"id\":\"ata1iEpHgUGndUk-1818ZQn2\",\"disclaimer\":\"ข้อมูลที่แสดงผลบนเว็บไซต์ เพื่อประโยชน์ในการป้องกันและควบคุมการแพร่ระบาดของโรคโควิด 19 และโรคติดต่ออื่น ๆ เท่านั้น\"},{\"address\":{\"zipCode\":\"10600\",\"province\":\"กรุงเทพมหานคร\",\"addressNo\":\"299\",\"provinceCode\":\"1\",\"street\":\"เจริญนคร\",\"district\":\"คลองสาน\",\"subDistrict\":\"คลองต้นไทร\",\"building\":\"ชั้น G\"},\"businessType\":\"ร้านจำหน่ายอาหาร\",\"capacity\":22,\"category\":\"ECONOMICS\",\"groupType\":\"01\",\"latitude\":13.726112212078,\"longitude\":100.51012467443,\"ratingScore\":5,\"shopName\":\"ร้านทาปาส (TAPAS By Nan Charcoal Grill)\",\"subcategory\":\"01_ECONOMICS_01\",\"id\":\"eGYNVduOgBt0kxpOi8_YddCz\",\"disclaimer\":\"ข้อมูลที่แสดงผลบนเว็บไซต์ เพื่อประโยชน์ในการป้องกันและควบคุมการแพร่ระบาดของโรคโควิด 19 และโรคติดต่ออื่น ๆ เท่านั้น\"},{\"address\":{\"zipCode\":\"10270\",\"province\":\"สมุทรปราการ\",\"addressNo\":\"8/7,8/8\",\"street\":\"-\",\"provinceCode\":\"2\",\"district\":\"เมืองสมุทรปราการ\",\"moo\":\"7\",\"soi\":\"-\",\"subDistrict\":\"บางเมืองใหม่\",\"building\":\"ทรัพย์ยั่งยืน\"},\"businessType\":\"การให้บริการ\",\"capacity\":5,\"category\":\"ECONOMICS_G4\",\"groupType\":\"4\",\"latitude\":13.62949509,\"longitude\":100.613484,\"ratingScore\":5,\"shopName\":\"4056ม.ทรัพย์ยั่งยืน\",\"subcategory\":\"06_ECONOMICS_G4_02\",\"id\":\"sNeWTo9heZfhSerak5lNIPus\",\"disclaimer\":\"ข้อมูลที่แสดงผลบนเว็บไซต์ เพื่อประโยชน์ในการป้องกันและควบคุมการแพร่ระบาดของโรคโควิด 19 และโรคติดต่ออื่น ๆ เท่านั้น\"},{\"address\":{\"zipCode\":\"12140\",\"province\":\"ปทุมธานี\",\"addressNo\":\"8/1\",\"street\":null,\"provinceCode\":\"4\",\"district\":\"ลาดหลุมแก้ว\",\"moo\":\"4\",\"soi\":null,\"subDistrict\":\"ระแหง\",\"building\":null},\"businessType\":\"ร้านจำหน่ายอาหาร\",\"capacity\":15,\"category\":\"ECONOMICS\",\"groupType\":\"1\",\"latitude\":13.680412806572614,\"longitude\":100.45453463515625,\"ratingScore\":5,\"shopName\":\"เทสโก้โลตัสเอ็กเพรสสาขาตลาดลาดหลุมแก้ว\",\"subcategory\":\"01_ECONOMICS_01\",\"id\":\"vgPs5X6oXllpCezFCXwoI0iB\",\"disclaimer\":\"ข้อมูลที่แสดงผลบนเว็บไซต์ เพื่อประโยชน์ในการป้องกันและควบคุมการแพร่ระบาดของโรคโควิด 19 และโรคติดต่ออื่น ๆ เท่านั้น\"},{\"address\":{\"zipCode\":\"57140\",\"province\":\"เชียงราย\",\"addressNo\":\"115,115/2\",\"street\":null,\"provinceCode\":\"45\",\"district\":\"เชียงของ\",\"moo\":\"12\",\"soi\":null,\"subDistrict\":\"เวียง\",\"building\":\"อาคารธนาคารกรุงไทย สาขาเชียงของ\"},\"businessType\":\"ธนาคาร\",\"capacity\":16,\"category\":\"ECONOMICS\",\"groupType\":\"1\",\"latitude\":20.26109713715002,\"longitude\":100.40696306922327,\"ratingScore\":5,\"shopName\":\"บมจ.ธนาคารกรุงไทย สาขาเชียงของ\",\"subcategory\":\"01_ECONOMICS_02\",\"id\":\"jtk1Oe6WLY_u279ecdSgsNh6\",\"disclaimer\":\"ข้อมูลที่แสดงผลบนเว็บไซต์ เพื่อประโยชน์ในการป้องกันและควบคุมการแพร่ระบาดของโรคโควิด 19 และโรคติดต่ออื่น ๆ เท่านั้น\"},{\"address\":{\"zipCode\":\"13160\",\"province\":\"พระนครศรีอยุธยา\",\"addressNo\":\"15/3\",\"street\":\"อุดมสรยุทธ\",\"provinceCode\":\"5\",\"district\":\"บางปะอิน\",\"moo\":\"10\",\"soi\":null,\"subDistrict\":\"บ้านเลน\",\"building\":null},\"businessType\":\"ห้างสรรพสินค้า\",\"capacity\":169,\"category\":\"ECONOMICS_G4\",\"groupType\":\"4\",\"latitude\":14.2230063,\"longitude\":100.5754654,\"ratingScore\":5,\"shopName\":\"เทสโก้โลตัส ตลาดบางปะอิน\",\"subcategory\":\"06_ECONOMICS_G4_02\",\"id\":\"M6aY-bWe2MV7tUsAgZrWf2xM\",\"disclaimer\":\"ข้อมูลที่แสดงผลบนเว็บไซต์ เพื่อประโยชน์ในการป้องกันและควบคุมการแพร่ระบาดของโรคโควิด 19 และโรคติดต่ออื่น ๆ เท่านั้น\"},{\"address\":{\"zipCode\":\"46220\",\"province\":\"กาฬสินธุ์\",\"addressNo\":\"29\",\"street\":null,\"provinceCode\":\"34\",\"district\":\"หนองกุงศรี\",\"moo\":\"1\",\"soi\":null,\"subDistrict\":\"ลำหนองแสน\",\"building\":null},\"businessType\":\"ธนาคาร\",\"capacity\":22,\"category\":\"ECONOMICS\",\"groupType\":\"1\",\"latitude\":16.673006796369872,\"longitude\":103.30245331469443,\"ratingScore\":5,\"shopName\":\"บมจ.ธนาคารกรุงไทย สาขาหนองกุงศรี\",\"subcategory\":\"01_ECONOMICS_02\",\"id\":\"WcL6wTnhz0_20HyG1SgxMQLz\",\"disclaimer\":\"ข้อมูลที่แสดงผลบนเว็บไซต์ เพื่อประโยชน์ในการป้องกันและควบคุมการแพร่ระบาดของโรคโควิด 19 และโรคติดต่ออื่น ๆ เท่านั้น\"},{\"address\":{\"zipCode\":\"10600\",\"province\":\"กรุงเทพมหานคร\",\"addressNo\":\"299\",\"provinceCode\":\"1\",\"street\":\"เจริญนคร\",\"district\":\"คลองสาน\",\"subDistrict\":\"คลองต้นไทร\",\"building\":\"อาคารไอคอน สยาม ห้องเลขที่ วีจี09,วียูจี09 ชั้นที่ จีเอฟ,ยูจี\"},\"businessType\":\"ร้านอาหารหรือเครื่องดื่ม\",\"capacity\":16,\"category\":\"ECONOMICS_G4\",\"groupType\":\"04\",\"latitude\":13.726052399068,\"longitude\":100.510104900603,\"ratingScore\":5,\"shopName\":\"ร้านแซ่บอีลี่ สาขาไอคอนสยาม\",\"subcategory\":\"06_ECONOMICS_G4_02\",\"id\":\"B8JH2YBi4SXlXhKfGf0uwkGe\",\"disclaimer\":\"ข้อมูลที่แสดงผลบนเว็บไซต์ เพื่อประโยชน์ในการป้องกันและควบคุมการแพร่ระบาดของโรคโควิด 19 และโรคติดต่ออื่น ๆ เท่านั้น\"},{\"address\":{\"zipCode\":\"70000\",\"province\":\"ราชบุรี\",\"addressNo\":\"8/4\",\"street\":\"คฑาธร\",\"provinceCode\":\"55\",\"district\":\"เมืองราชบุรี\",\"moo\":null,\"soi\":null,\"subDistrict\":\"หน้าเมือง\",\"building\":null},\"businessType\":\"ซุปเปอร์มาร์เก็ต\",\"capacity\":2261,\"category\":\"ECONOMICS\",\"groupType\":\"1\",\"latitude\":13.5379876,\"longitude\":99.8175581,\"ratingScore\":5,\"shopName\":\"เทสโก้โลตัส สาขาราชบุรี\",\"subcategory\":\"01_ECONOMICS_02\",\"id\":\"ecmBFF7ghLohbo7LHmrIfgvS\",\"disclaimer\":\"ข้อมูลที่แสดงผลบนเว็บไซต์ เพื่อประโยชน์ในการป้องกันและควบคุมการแพร่ระบาดของโรคโควิด 19 และโรคติดต่ออื่น ๆ เท่านั้น\"},{\"address\":{\"zipCode\":\"10330\",\"province\":\"กรุงเทพมหานคร\",\"addressNo\":\"74/9\",\"street\":\"ราชดำริ\",\"provinceCode\":\"1\",\"district\":\"ปทุมวัน\",\"moo\":null,\"soi\":null,\"subDistrict\":\"ปทุมวัน\",\"building\":\"ศูนย์การค้า central world ร้าน CK CALVIN KLEIN ชั้น1 ห้องA103\"},\"businessType\":\"ศูนย์การค้า\",\"capacity\":25,\"category\":\"ECONOMICS_G4\",\"groupType\":\"4\",\"latitude\":13.745939147901119,\"longitude\":100.539695078098,\"ratingScore\":5,\"shopName\":\"กิจการร้านเสื้อผ้า CK CALVIN KLEIN CENTRAL WORLD\",\"subcategory\":\"06_ECONOMICS_G4_02\",\"id\":\"eDlr5kB5QVTaIGlPvXyica_m\",\"disclaimer\":\"ข้อมูลที่แสดงผลบนเว็บไซต์ เพื่อประโยชน์ในการป้องกันและควบคุมการแพร่ระบาดของโรคโควิด 19 และโรคติดต่ออื่น ๆ เท่านั้น\"},{\"address\":{\"zipCode\":\"10230\",\"province\":\"กรุงเทพมหานคร\",\"addressNo\":\"30/20\",\"provinceCode\":\"1\",\"street\":\"ประเสริฐมนูกิจ\",\"district\":\"บึงกุ่ม\",\"moo\":\"4\",\"subDistrict\":\"คลองกุ่ม\",\"building\":\"ศูนย์การค้า นวมินทร์ ซิตี้ อะเวนิว ชั้น 2\"},\"businessType\":\"ร้านทำเล็บ\",\"capacity\":10,\"category\":\"HEALTHCARE_G4\",\"groupType\":\"04\",\"latitude\":13.8777528739,\"longitude\":100.714493367413,\"ratingScore\":5,\"shopName\":\"Nails nails nails\",\"subcategory\":\"07_HEALTHCARE_G4_01\",\"id\":\"hYZMkayXsyoK-o0Fo74IUu1T\",\"disclaimer\":\"ข้อมูลที่แสดงผลบนเว็บไซต์ เพื่อประโยชน์ในการป้องกันและควบคุมการแพร่ระบาดของโรคโควิด 19 และโรคติดต่ออื่น ๆ เท่านั้น\"},{\"address\":{\"zipCode\":\"65000\",\"province\":\"พิษณุโลก\",\"addressNo\":\"99/9\",\"street\":\"สิงห์​วัฒน์​\",\"provinceCode\":\"52\",\"district\":\"เมืองพิษณุโลก\",\"moo\":\"5\",\"soi\":null,\"subDistrict\":\"จอมทอง\",\"building\":\"เซ็นทรัล​พิษณุโลก​\"},\"businessType\":\"ร้านอาหารหรือเครื่องดื่ม\",\"capacity\":30,\"category\":\"ECONOMICS_G4\",\"groupType\":\"4\",\"latitude\":16.8402558,\"longitude\":100.2333563,\"ratingScore\":5,\"shopName\":\"The​pizza​company​สาขา​เซ็นทรัล​พิษณุโลก​\",\"subcategory\":\"06_ECONOMICS_G4_02\",\"id\":\"JHO2ytOCQKPFo2cyrCWPRxCX\",\"disclaimer\":\"ข้อมูลที่แสดงผลบนเว็บไซต์ เพื่อประโยชน์ในการป้องกันและควบคุมการแพร่ระบาดของโรคโควิด 19 และโรคติดต่ออื่น ๆ เท่านั้น\"},{\"address\":{\"zipCode\":\"39000\",\"province\":\"หนองบัวลำภู\",\"addressNo\":\"15\",\"street\":null,\"provinceCode\":\"27\",\"district\":\"เมืองหนองบัวลำภู\",\"moo\":\"2\",\"soi\":null,\"subDistrict\":\"หนองบัว\",\"building\":null},\"businessType\":\"ซุปเปอร์มาร์เก็ต\",\"capacity\":15,\"category\":\"ECONOMICS\",\"groupType\":\"1\",\"latitude\":17.1961687,\"longitude\":102.439353,\"ratingScore\":5,\"shopName\":\"เทสโก้โลตัสเอ็กเพรสตลาดกิจเจริญ\",\"subcategory\":\"01_ECONOMICS_02\",\"id\":\"oVl9--OQ5VgOihrYgVLX_M34\",\"disclaimer\":\"ข้อมูลที่แสดงผลบนเว็บไซต์ เพื่อประโยชน์ในการป้องกันและควบคุมการแพร่ระบาดของโรคโควิด 19 และโรคติดต่ออื่น ๆ เท่านั้น\"}]}))\n",
              "new ResizeObserver(google.colab.output.resizeIframeToContent).observe(document.body)\n",
              "</script>\n"
            ],
            "text/plain": [
              "<Response [200]>"
            ]
          },
          "metadata": {
            "tags": []
          },
          "execution_count": 37
        }
      ]
    },
    {
      "cell_type": "markdown",
      "metadata": {
        "id": "Q_ms_vE4nIOk",
        "colab_type": "text"
      },
      "source": [
        "ใช้ curl แล้วค่อยๆ ตัดทีละอัน\n",
        "- ไม่เช็ค Referer\n",
        "- ไม่เช็ค Origin\n",
        "- เช็คเฉพาะ Content-Type ✓\n",
        "- ไม่เช็ค Accept\n",
        "- ไม่เช็ค User-Agent"
      ]
    },
    {
      "cell_type": "code",
      "metadata": {
        "id": "kd3cSJsYmvUd",
        "colab_type": "code",
        "outputId": "e9eecdec-a839-4878-b1fb-a7204db937ef",
        "colab": {
          "base_uri": "https://localhost:8080/",
          "height": 55
        }
      },
      "source": [
        "!curl 'https://api-search.thaichana.com/shop/search' \\\n",
        "-H 'Content-Type: application/json;charset=utf-8' \\\n",
        "--data-raw $'{\"province\":\"\\u0e01\\u0e23\\u0e30\\u0e1a\\u0e35\\u0e48\",\"size\":10,\"sortBy\":\"RATING_DESC\"}'"
      ],
      "execution_count": 0,
      "outputs": [
        {
          "output_type": "stream",
          "text": [
            "{\"shops\":[{\"address\":{\"zipCode\":\"81000\",\"province\":\"กระบี่\",\"addressNo\":\"191\",\"street\":null,\"provinceCode\":\"64\",\"district\":\"เมืองกระบี่\",\"moo\":\"12\",\"soi\":null,\"subDistrict\":\"กระบี่น้อย\",\"building\":\"2\"},\"businessType\":\"ห้างสรรพสินค้า\",\"capacity\":10,\"category\":\"ECONOMICS_G4\",\"groupType\":\"4\",\"latitude\":8.1087748,\"longitude\":98.9390047,\"ratingScore\":5,\"shopName\":\"Haas โลตัสกระบี่\",\"subcategory\":\"06_ECONOMICS_G4_02\",\"id\":\"ywsW8_te4_me8Iw5CFIKDiY3\",\"disclaimer\":\"ข้อมูลที่แสดงผลบนเว็บไซต์ เพื่อประโยชน์ในการป้องกันและควบคุมการแพร่ระบาดของโรคโควิด 19 และโรคติดต่ออื่น ๆ เท่านั้น\"},{\"address\":{\"zipCode\":\"81000\",\"province\":\"กระบี่\",\"addressNo\":\"76/1\",\"street\":\"มหาราช\",\"provinceCode\":\"64\",\"district\":\"เมืองกระบี่\",\"moo\":null,\"soi\":null,\"subDistrict\":\"กระบี่น้อย\",\"building\":null},\"businessType\":\"ศูนย์การค้า\",\"capacity\":15,\"category\":\"ECONOMICS_G4\",\"groupType\":\"4\",\"latitude\":8.0644218,\"longitude\":98.9154066,\"ratingScore\":5,\"shopName\":\"Swensen's Vogue Krabi\",\"subcategory\":\"06_ECONOMICS_G4_02\",\"id\":\"17CtdKxs8MP8G9B1Uj-cx6v4\",\"disclaimer\":\"ข้อมูลที่แสดงผลบนเว็บไซต์ เพื่อประโยชน์ในการป้องกันและควบคุมการแพร่ระบาดของโรคโควิด 19 และโรคติดต่ออื่น ๆ เท่านั้น\"},{\"address\":{\"zipCode\":\"81000\",\"province\":\"กระบี่\",\"addressNo\":\"8888\",\"street\":null,\"provinceCode\":\"64\",\"district\":\"เมืองกระบี่\",\"moo\":\"11\",\"soi\":null,\"subDistrict\":\"กระบี่น้อย\",\"building\":null},\"businessType\":\"ศูนย์การค้า\",\"capacity\":5,\"category\":\"ECONOMICS_G4\",\"groupType\":\"4\",\"latitude\":8.1090273,\"longitude\":98.9333996,\"ratingScore\":5,\"shopName\":\"ทิมเบอแลนด์เอาเลทกระบี่\",\"subcategory\":\"06_ECONOMICS_G4_02\",\"id\":\"z_jWCGijEADMHoOM0l72LKPc\",\"disclaimer\":\"ข้อมูลที่แสดงผลบนเว็บไซต์ เพื่อประโยชน์ในการป้องกันและควบคุมการแพร่ระบาดของโรคโควิด 19 และโรคติดต่ออื่น ๆ เท่านั้น\"},{\"address\":{\"zipCode\":\"81000\",\"province\":\"กระบี่\",\"addressNo\":\"38,40\",\"street\":\"มหาราช\",\"provinceCode\":\"64\",\"district\":\"เมืองกระบี่\",\"moo\":null,\"soi\":null,\"subDistrict\":\"ปากน้ำ\",\"building\":null},\"businessType\":\"สินค้าเบ็ดเตล็ดที่จำเป็นต่อการใช้ชีวิต\",\"capacity\":20,\"category\":\"ECONOMICS\",\"groupType\":\"1\",\"latitude\":8.0630307,\"longitude\":98.9156421,\"ratingScore\":5,\"shopName\":\"ร้านแว่นท๊อปเจริญสาขากระบี่(ถนนมหาราช)\",\"subcategory\":\"01_ECONOMICS_02\",\"id\":\"D-8QJw2mvEON8Ed4GSGRfMPq\",\"disclaimer\":\"ข้อมูลที่แสดงผลบนเว็บไซต์ เพื่อประโยชน์ในการป้องกันและควบคุมการแพร่ระบาดของโรคโควิด 19 และโรคติดต่ออื่น ๆ เท่านั้น\"},{\"address\":{\"zipCode\":\"81000\",\"province\":\"กระบี่\",\"addressNo\":\"888\",\"street\":\"เพชรเกษมหมายเลข4\",\"provinceCode\":\"64\",\"district\":\"เมืองกระบี่\",\"moo\":\"11\",\"soi\":\"-\",\"subDistrict\":\"กระบี่น้อย\",\"building\":\"ร้าน Mc\"},\"businessType\":\"ศูนย์การค้า\",\"capacity\":5,\"category\":\"ECONOMICS_G4\",\"groupType\":\"4\",\"latitude\":8.1078342,\"longitude\":98.9354012,\"ratingScore\":5,\"shopName\":\"Mc Jeans สาขาเอาท์เล็ทกระบี่\",\"subcategory\":\"06_ECONOMICS_G4_02\",\"id\":\"lTs4Ivkjx_LLdluQJnCWZFbN\",\"disclaimer\":\"ข้อมูลที่แสดงผลบนเว็บไซต์ เพื่อประโยชน์ในการป้องกันและควบคุมการแพร่ระบาดของโรคโควิด 19 และโรคติดต่ออื่น ๆ เท่านั้น\"},{\"address\":{\"zipCode\":\"81000\",\"province\":\"กระบี่\",\"addressNo\":\"15\",\"street\":\"มหาราช\",\"provinceCode\":\"64\",\"district\":\"เมืองกระบี่\",\"moo\":null,\"soi\":\"10\",\"subDistrict\":\"ปากน้ำ\",\"building\":null},\"businessType\":\"ร้านทำเล็บ\",\"capacity\":5,\"category\":\"HEALTHCARE_G4\",\"groupType\":\"4\",\"latitude\":8.06501927196757,\"longitude\":98.91636910845254,\"ratingScore\":5,\"shopName\":\"Nails Before Males\",\"subcategory\":\"07_HEALTHCARE_G4_01\",\"id\":\"mLWrszBLCzgG_H0Tv36z8RcQ\",\"disclaimer\":\"ข้อมูลที่แสดงผลบนเว็บไซต์ เพื่อประโยชน์ในการป้องกันและควบคุมการแพร่ระบาดของโรคโควิด 19 และโรคติดต่ออื่น ๆ เท่านั้น\"},{\"address\":{\"zipCode\":\"81000\",\"province\":\"กระบี่\",\"addressNo\":\"191\",\"street\":\"-\",\"provinceCode\":\"64\",\"district\":\"เมืองกระบี่\",\"moo\":\"12\",\"soi\":\"-\",\"subDistrict\":\"กระบี่น้อย\",\"building\":\"-\"},\"businessType\":\"ร้านขายปลีกธุรกิจสื่อสารโทรคมนาคม\",\"capacity\":5,\"category\":\"ECONOMICS\",\"groupType\":\"1\",\"latitude\":8.1086165,\"longitude\":98.9390919,\"ratingScore\":5,\"shopName\":\"YBEE สาขาโลตัสกระบี่\",\"subcategory\":\"01_ECONOMICS_02\",\"id\":\"MCBTDwZgXHBcPDCXjnLZLSq2\",\"disclaimer\":\"ข้อมูลที่แสดงผลบนเว็บไซต์ เพื่อประโยชน์ในการป้องกันและควบคุมการแพร่ระบาดของโรคโควิด 19 และโรคติดต่ออื่น ๆ เท่านั้น\"},{\"address\":{\"zipCode\":\"81000\",\"province\":\"กระบี่\",\"addressNo\":\"18/2\",\"provinceCode\":\"64\",\"street\":\"-\",\"district\":\"เมืองกระบี่\",\"moo\":\"2\",\"soi\":\"ท่าปอมคลองสองน้ำ ซอย1\",\"subDistrict\":\"เขาคราม\",\"building\":\"บ้านหนองจิก\"},\"businessType\":\"ร้านอาหารหรือเครื่องดื่ม\",\"capacity\":24,\"category\":\"ECONOMICS_G4\",\"groupType\":\"04\",\"latitude\":8.214811668437,\"longitude\":98.77727008208,\"ratingScore\":5,\"shopName\":\"ครัวสวนปาล์ม ท่าปอมคลองสองน้ำ กระบี่\",\"subcategory\":\"06_ECONOMICS_G4_02\",\"id\":\"n0dOWxTAQcNb5Lt-Q0pYyUIS\",\"disclaimer\":\"ข้อมูลที่แสดงผลบนเว็บไซต์ เพื่อประโยชน์ในการป้องกันและควบคุมการแพร่ระบาดของโรคโควิด 19 และโรคติดต่ออื่น ๆ เท่านั้น\"},{\"address\":{\"zipCode\":\"81000\",\"province\":\"กระบี่\",\"addressNo\":\"43/1-2\",\"street\":\"ประชาอุทิศ\",\"provinceCode\":\"64\",\"district\":\"เมืองกระบี่\",\"moo\":null,\"soi\":null,\"subDistrict\":\"กระบี่ใหญ่\",\"building\":null},\"businessType\":\"ซุปเปอร์มาร์เก็ต\",\"capacity\":600,\"category\":\"ECONOMICS\",\"groupType\":\"1\",\"latitude\":8.1107975,\"longitude\":98.9095416,\"ratingScore\":5,\"shopName\":\"แฟมมิลี่มาร์ทสาขาน้ำตกห้วยโต้\",\"subcategory\":\"01_ECONOMICS_02\",\"id\":\"rC98HvLLh9OfUJFtPEHF3Uve\",\"disclaimer\":\"ข้อมูลที่แสดงผลบนเว็บไซต์ เพื่อประโยชน์ในการป้องกันและควบคุมการแพร่ระบาดของโรคโควิด 19 และโรคติดต่ออื่น ๆ เท่านั้น\"},{\"address\":{\"zipCode\":\"81000\",\"province\":\"กระบี่\",\"addressNo\":\"191\",\"street\":null,\"provinceCode\":\"64\",\"district\":\"เมืองกระบี่\",\"moo\":\"หมู่12\",\"soi\":null,\"subDistrict\":\"กระบี่น้อย\",\"building\":\"เทสโก้โลตัส  สาขากระบี่\"},\"businessType\":\"ห้างสรรพสินค้า\",\"capacity\":13,\"category\":\"ECONOMICS_G4\",\"groupType\":\"4\",\"latitude\":8.109264798060654,\"longitude\":98.93881397759937,\"ratingScore\":5,\"shopName\":\"ร้าน ดาร์เต้ สาขาโลตัสกระบั่\",\"subcategory\":\"06_ECONOMICS_G4_02\",\"id\":\"KH5x6z_PVo6Pt6D9UJPiE_i3\",\"disclaimer\":\"ข้อมูลที่แสดงผลบนเว็บไซต์ เพื่อประโยชน์ในการป้องกันและควบคุมการแพร่ระบาดของโรคโควิด 19 และโรคติดต่ออื่น ๆ เท่านั้น\"}]}"
          ],
          "name": "stdout"
        }
      ]
    },
    {
      "cell_type": "code",
      "metadata": {
        "id": "gNkNcP5Om98H",
        "colab_type": "code",
        "outputId": "e5d469d3-c8bb-49d8-bd09-99a1fbd91c40",
        "colab": {
          "base_uri": "https://localhost:8080/",
          "height": 86
        }
      },
      "source": [
        "headers = {'Content-Type': 'application/json;charset=utf-8'}\n",
        "post(url, data, headers=headers )"
      ],
      "execution_count": 0,
      "outputs": [
        {
          "output_type": "execute_result",
          "data": {
            "text/html": [
              "\n",
              "<script src=\"https://rawgit.com/caldwell/renderjson/master/renderjson.js\"></script>\n",
              "<script>\n",
              "renderjson.set_show_to_level(1)\n",
              "document.body.appendChild(renderjson({\"status\":\"error\",\"error\":\"Unexpected token p in JSON at position 0\"}))\n",
              "new ResizeObserver(google.colab.output.resizeIframeToContent).observe(document.body)\n",
              "</script>\n"
            ],
            "text/plain": [
              "<Response [500]>"
            ]
          },
          "metadata": {
            "tags": []
          },
          "execution_count": 50
        }
      ]
    },
    {
      "cell_type": "code",
      "metadata": {
        "id": "3j65feIMpKGO",
        "colab_type": "code",
        "outputId": "ca4e2266-1ee2-4901-b135-d37acdfbaa12",
        "colab": {
          "base_uri": "https://localhost:8080/",
          "height": 35
        }
      },
      "source": [
        "data"
      ],
      "execution_count": 0,
      "outputs": [
        {
          "output_type": "execute_result",
          "data": {
            "text/plain": [
              "{'province': 'กระบี่', 'size': 10, 'sortBy': 'RATING_DESC'}"
            ]
          },
          "metadata": {
            "tags": []
          },
          "execution_count": 51
        }
      ]
    },
    {
      "cell_type": "code",
      "metadata": {
        "id": "lM4_TXzapSrb",
        "colab_type": "code",
        "colab": {}
      },
      "source": [
        "# ตัวอย่าง fetch ถ้าใช้ javascript\n",
        "# await fetch(\"https://api-search.thaichana.com/shop/search\", {\n",
        "#     \"credentials\": \"omit\",\n",
        "#     \"headers\": {\n",
        "#         \"User-Agent\": \"Mozilla/5.0 (Macintosh; Intel Mac OS X 10.15; rv:76.0) Gecko/20100101 Firefox/76.0\",\n",
        "#         \"Accept\": \"application/json, text/plain, */*\",\n",
        "#         \"Accept-Language\": \"en-US,en;q=0.5\",\n",
        "#         \"Content-Type\": \"application/json;charset=utf-8\"\n",
        "#     },\n",
        "#     \"referrer\": \"https://merchant.thaichana.com/search?size=10&page=0&category=%E0%B8%97%E0%B8%B8%E0%B8%81%E0%B8%9B%E0%B8%A3%E0%B8%B0%E0%B9%80%E0%B8%A0%E0%B8%97&province=%E0%B8%81%E0%B8%A3%E0%B8%B0%E0%B8%9A%E0%B8%B5%E0%B9%88&rating=0&passQuestionnaire=false&lockLatLong=false\",\n",
        "#     \"body\": \"{\\\"province\\\":\\\"กระบี่\\\",\\\"size\\\":10,\\\"sortBy\\\":\\\"RATING_DESC\\\"}\",\n",
        "#     \"method\": \"POST\",\n",
        "#     \"mode\": \"cors\"\n",
        "# });"
      ],
      "execution_count": 0,
      "outputs": []
    },
    {
      "cell_type": "code",
      "metadata": {
        "id": "H-tt5ZFtpmF4",
        "colab_type": "code",
        "outputId": "053e769f-f35f-4a14-ea09-3454e48d368c",
        "colab": {
          "base_uri": "https://localhost:8080/",
          "height": 486
        }
      },
      "source": [
        "post(url, json=data) # มันเพิ่ม header ให้อัตโนมัติ เพิ่งรู้ !!!"
      ],
      "execution_count": 0,
      "outputs": [
        {
          "output_type": "execute_result",
          "data": {
            "text/html": [
              "\n",
              "<script src=\"https://rawgit.com/caldwell/renderjson/master/renderjson.js\"></script>\n",
              "<script>\n",
              "renderjson.set_show_to_level(1)\n",
              "document.body.appendChild(renderjson({\"shops\":[{\"address\":{\"zipCode\":\"81000\",\"province\":\"กระบี่\",\"addressNo\":\"191\",\"street\":null,\"provinceCode\":\"64\",\"district\":\"เมืองกระบี่\",\"moo\":\"12\",\"soi\":null,\"subDistrict\":\"กระบี่น้อย\",\"building\":\"2\"},\"businessType\":\"ห้างสรรพสินค้า\",\"capacity\":10,\"category\":\"ECONOMICS_G4\",\"groupType\":\"4\",\"latitude\":8.1087748,\"longitude\":98.9390047,\"ratingScore\":5,\"shopName\":\"Haas โลตัสกระบี่\",\"subcategory\":\"06_ECONOMICS_G4_02\",\"id\":\"ywsW8_te4_me8Iw5CFIKDiY3\",\"disclaimer\":\"ข้อมูลที่แสดงผลบนเว็บไซต์ เพื่อประโยชน์ในการป้องกันและควบคุมการแพร่ระบาดของโรคโควิด 19 และโรคติดต่ออื่น ๆ เท่านั้น\"},{\"address\":{\"zipCode\":\"81000\",\"province\":\"กระบี่\",\"addressNo\":\"76/1\",\"street\":\"มหาราช\",\"provinceCode\":\"64\",\"district\":\"เมืองกระบี่\",\"moo\":null,\"soi\":null,\"subDistrict\":\"กระบี่น้อย\",\"building\":null},\"businessType\":\"ศูนย์การค้า\",\"capacity\":15,\"category\":\"ECONOMICS_G4\",\"groupType\":\"4\",\"latitude\":8.0644218,\"longitude\":98.9154066,\"ratingScore\":5,\"shopName\":\"Swensen's Vogue Krabi\",\"subcategory\":\"06_ECONOMICS_G4_02\",\"id\":\"17CtdKxs8MP8G9B1Uj-cx6v4\",\"disclaimer\":\"ข้อมูลที่แสดงผลบนเว็บไซต์ เพื่อประโยชน์ในการป้องกันและควบคุมการแพร่ระบาดของโรคโควิด 19 และโรคติดต่ออื่น ๆ เท่านั้น\"},{\"address\":{\"zipCode\":\"81000\",\"province\":\"กระบี่\",\"addressNo\":\"8888\",\"street\":null,\"provinceCode\":\"64\",\"district\":\"เมืองกระบี่\",\"moo\":\"11\",\"soi\":null,\"subDistrict\":\"กระบี่น้อย\",\"building\":null},\"businessType\":\"ศูนย์การค้า\",\"capacity\":5,\"category\":\"ECONOMICS_G4\",\"groupType\":\"4\",\"latitude\":8.1090273,\"longitude\":98.9333996,\"ratingScore\":5,\"shopName\":\"ทิมเบอแลนด์เอาเลทกระบี่\",\"subcategory\":\"06_ECONOMICS_G4_02\",\"id\":\"z_jWCGijEADMHoOM0l72LKPc\",\"disclaimer\":\"ข้อมูลที่แสดงผลบนเว็บไซต์ เพื่อประโยชน์ในการป้องกันและควบคุมการแพร่ระบาดของโรคโควิด 19 และโรคติดต่ออื่น ๆ เท่านั้น\"},{\"address\":{\"zipCode\":\"81000\",\"province\":\"กระบี่\",\"addressNo\":\"38,40\",\"street\":\"มหาราช\",\"provinceCode\":\"64\",\"district\":\"เมืองกระบี่\",\"moo\":null,\"soi\":null,\"subDistrict\":\"ปากน้ำ\",\"building\":null},\"businessType\":\"สินค้าเบ็ดเตล็ดที่จำเป็นต่อการใช้ชีวิต\",\"capacity\":20,\"category\":\"ECONOMICS\",\"groupType\":\"1\",\"latitude\":8.0630307,\"longitude\":98.9156421,\"ratingScore\":5,\"shopName\":\"ร้านแว่นท๊อปเจริญสาขากระบี่(ถนนมหาราช)\",\"subcategory\":\"01_ECONOMICS_02\",\"id\":\"D-8QJw2mvEON8Ed4GSGRfMPq\",\"disclaimer\":\"ข้อมูลที่แสดงผลบนเว็บไซต์ เพื่อประโยชน์ในการป้องกันและควบคุมการแพร่ระบาดของโรคโควิด 19 และโรคติดต่ออื่น ๆ เท่านั้น\"},{\"address\":{\"zipCode\":\"81000\",\"province\":\"กระบี่\",\"addressNo\":\"888\",\"street\":\"เพชรเกษมหมายเลข4\",\"provinceCode\":\"64\",\"district\":\"เมืองกระบี่\",\"moo\":\"11\",\"soi\":\"-\",\"subDistrict\":\"กระบี่น้อย\",\"building\":\"ร้าน Mc\"},\"businessType\":\"ศูนย์การค้า\",\"capacity\":5,\"category\":\"ECONOMICS_G4\",\"groupType\":\"4\",\"latitude\":8.1078342,\"longitude\":98.9354012,\"ratingScore\":5,\"shopName\":\"Mc Jeans สาขาเอาท์เล็ทกระบี่\",\"subcategory\":\"06_ECONOMICS_G4_02\",\"id\":\"lTs4Ivkjx_LLdluQJnCWZFbN\",\"disclaimer\":\"ข้อมูลที่แสดงผลบนเว็บไซต์ เพื่อประโยชน์ในการป้องกันและควบคุมการแพร่ระบาดของโรคโควิด 19 และโรคติดต่ออื่น ๆ เท่านั้น\"},{\"address\":{\"zipCode\":\"81000\",\"province\":\"กระบี่\",\"addressNo\":\"191\",\"street\":\"-\",\"provinceCode\":\"64\",\"district\":\"เมืองกระบี่\",\"moo\":\"12\",\"soi\":\"-\",\"subDistrict\":\"กระบี่น้อย\",\"building\":\"-\"},\"businessType\":\"ร้านขายปลีกธุรกิจสื่อสารโทรคมนาคม\",\"capacity\":5,\"category\":\"ECONOMICS\",\"groupType\":\"1\",\"latitude\":8.1086165,\"longitude\":98.9390919,\"ratingScore\":5,\"shopName\":\"YBEE สาขาโลตัสกระบี่\",\"subcategory\":\"01_ECONOMICS_02\",\"id\":\"MCBTDwZgXHBcPDCXjnLZLSq2\",\"disclaimer\":\"ข้อมูลที่แสดงผลบนเว็บไซต์ เพื่อประโยชน์ในการป้องกันและควบคุมการแพร่ระบาดของโรคโควิด 19 และโรคติดต่ออื่น ๆ เท่านั้น\"},{\"address\":{\"zipCode\":\"81000\",\"province\":\"กระบี่\",\"addressNo\":\"15\",\"street\":\"มหาราช\",\"provinceCode\":\"64\",\"district\":\"เมืองกระบี่\",\"moo\":null,\"soi\":\"10\",\"subDistrict\":\"ปากน้ำ\",\"building\":null},\"businessType\":\"ร้านทำเล็บ\",\"capacity\":5,\"category\":\"HEALTHCARE_G4\",\"groupType\":\"4\",\"latitude\":8.06501927196757,\"longitude\":98.91636910845254,\"ratingScore\":5,\"shopName\":\"Nails Before Males\",\"subcategory\":\"07_HEALTHCARE_G4_01\",\"id\":\"mLWrszBLCzgG_H0Tv36z8RcQ\",\"disclaimer\":\"ข้อมูลที่แสดงผลบนเว็บไซต์ เพื่อประโยชน์ในการป้องกันและควบคุมการแพร่ระบาดของโรคโควิด 19 และโรคติดต่ออื่น ๆ เท่านั้น\"},{\"address\":{\"zipCode\":\"81000\",\"province\":\"กระบี่\",\"addressNo\":\"18/2\",\"provinceCode\":\"64\",\"street\":\"-\",\"district\":\"เมืองกระบี่\",\"moo\":\"2\",\"soi\":\"ท่าปอมคลองสองน้ำ ซอย1\",\"subDistrict\":\"เขาคราม\",\"building\":\"บ้านหนองจิก\"},\"businessType\":\"ร้านอาหารหรือเครื่องดื่ม\",\"capacity\":24,\"category\":\"ECONOMICS_G4\",\"groupType\":\"04\",\"latitude\":8.214811668437,\"longitude\":98.77727008208,\"ratingScore\":5,\"shopName\":\"ครัวสวนปาล์ม ท่าปอมคลองสองน้ำ กระบี่\",\"subcategory\":\"06_ECONOMICS_G4_02\",\"id\":\"n0dOWxTAQcNb5Lt-Q0pYyUIS\",\"disclaimer\":\"ข้อมูลที่แสดงผลบนเว็บไซต์ เพื่อประโยชน์ในการป้องกันและควบคุมการแพร่ระบาดของโรคโควิด 19 และโรคติดต่ออื่น ๆ เท่านั้น\"},{\"address\":{\"zipCode\":\"81000\",\"province\":\"กระบี่\",\"addressNo\":\"191\",\"street\":null,\"provinceCode\":\"64\",\"district\":\"เมืองกระบี่\",\"moo\":\"หมู่12\",\"soi\":null,\"subDistrict\":\"กระบี่น้อย\",\"building\":\"เทสโก้โลตัส  สาขากระบี่\"},\"businessType\":\"ห้างสรรพสินค้า\",\"capacity\":13,\"category\":\"ECONOMICS_G4\",\"groupType\":\"4\",\"latitude\":8.109264798060654,\"longitude\":98.93881397759937,\"ratingScore\":5,\"shopName\":\"ร้าน ดาร์เต้ สาขาโลตัสกระบั่\",\"subcategory\":\"06_ECONOMICS_G4_02\",\"id\":\"KH5x6z_PVo6Pt6D9UJPiE_i3\",\"disclaimer\":\"ข้อมูลที่แสดงผลบนเว็บไซต์ เพื่อประโยชน์ในการป้องกันและควบคุมการแพร่ระบาดของโรคโควิด 19 และโรคติดต่ออื่น ๆ เท่านั้น\"},{\"address\":{\"zipCode\":\"81000\",\"province\":\"กระบี่\",\"addressNo\":\"88/21-22\",\"street\":\"มหาราช\",\"provinceCode\":\"64\",\"district\":\"เมืองกระบี่\",\"moo\":null,\"soi\":null,\"subDistrict\":\"ปากน้ำ\",\"building\":null},\"businessType\":\"ร้านค้าปลีก\",\"capacity\":10,\"category\":\"ECONOMICS\",\"groupType\":\"1\",\"latitude\":8.066116710559394,\"longitude\":98.91506061955498,\"ratingScore\":5,\"shopName\":\"เทเลวิซ สาขาเมืองกระบี่\",\"subcategory\":\"01_ECONOMICS_03\",\"id\":\"eT318c_rd0X9ylWStrxaiv5B\",\"disclaimer\":\"ข้อมูลที่แสดงผลบนเว็บไซต์ เพื่อประโยชน์ในการป้องกันและควบคุมการแพร่ระบาดของโรคโควิด 19 และโรคติดต่ออื่น ๆ เท่านั้น\"}]}))\n",
              "new ResizeObserver(google.colab.output.resizeIframeToContent).observe(document.body)\n",
              "</script>\n"
            ],
            "text/plain": [
              "<Response [200]>"
            ]
          },
          "metadata": {
            "tags": []
          },
          "execution_count": 52
        }
      ]
    },
    {
      "cell_type": "code",
      "metadata": {
        "id": "5h_fAPb-ptXx",
        "colab_type": "code",
        "outputId": "09455736-99f0-490b-8673-9fe4a2aa995e",
        "colab": {
          "base_uri": "https://localhost:8080/",
          "height": 486
        }
      },
      "source": [
        "data = {\"province\":\"กระบี่\",\"from\":10,\"size\":10,\"sortBy\":\"RATING_DESC\"}\n",
        "post(url, json=data)"
      ],
      "execution_count": 0,
      "outputs": [
        {
          "output_type": "execute_result",
          "data": {
            "text/html": [
              "\n",
              "<script src=\"https://rawgit.com/caldwell/renderjson/master/renderjson.js\"></script>\n",
              "<script>\n",
              "renderjson.set_show_to_level(1)\n",
              "document.body.appendChild(renderjson({\"shops\":[{\"address\":{\"zipCode\":\"81110\",\"province\":\"กระบี่\",\"addressNo\":\"15/1\",\"street\":\"เพชรเกษม\",\"provinceCode\":\"64\",\"district\":\"อ่าวลึก\",\"moo\":\"2\",\"soi\":\"-\",\"subDistrict\":\"อ่าวลึกเหนือ\",\"building\":\"-\"},\"businessType\":\"ธนาคาร\",\"capacity\":12,\"category\":\"ECONOMICS\",\"groupType\":\"1\",\"latitude\":8.391231985797015,\"longitude\":98.74301778941299,\"ratingScore\":5,\"shopName\":\"บมจ.ธนาคารกรุงไทย สาขาอ่าวลึก\",\"subcategory\":\"01_ECONOMICS_02\",\"id\":\"zQeyxSbJlji7eSgOrF2zvt6g\",\"disclaimer\":\"ข้อมูลที่แสดงผลบนเว็บไซต์ เพื่อประโยชน์ในการป้องกันและควบคุมการแพร่ระบาดของโรคโควิด 19 และโรคติดต่ออื่น ๆ เท่านั้น\"},{\"address\":{\"zipCode\":\"81120\",\"province\":\"กระบี่\",\"addressNo\":\"286\",\"street\":\"เพชรเกษม\",\"provinceCode\":\"64\",\"district\":\"คลองท่อม\",\"moo\":\"2\",\"soi\":null,\"subDistrict\":\"คลองท่อมใต้\",\"building\":null},\"businessType\":\"ธนาคาร\",\"capacity\":31,\"category\":\"ECONOMICS\",\"groupType\":\"1\",\"latitude\":7.9409466608530845,\"longitude\":99.14407854215094,\"ratingScore\":5,\"shopName\":\"บมจ.ธนาคารกรุงไทย สาขาคลองท่อม\",\"subcategory\":\"01_ECONOMICS_02\",\"id\":\"w4kgeloGf1qW9qDe0kCArHyX\",\"disclaimer\":\"ข้อมูลที่แสดงผลบนเว็บไซต์ เพื่อประโยชน์ในการป้องกันและควบคุมการแพร่ระบาดของโรคโควิด 19 และโรคติดต่ออื่น ๆ เท่านั้น\"},{\"address\":{\"zipCode\":\"81130\",\"province\":\"กระบี่\",\"addressNo\":\"219\",\"street\":\"เพชรเกษม\",\"provinceCode\":\"64\",\"district\":\"เหนือคลอง\",\"moo\":\"2\",\"soi\":null,\"subDistrict\":\"เหนือคลอง\",\"building\":null},\"businessType\":\"ธนาคาร\",\"capacity\":18,\"category\":\"ECONOMICS\",\"groupType\":\"1\",\"latitude\":8.069406538578718,\"longitude\":98.99896236970368,\"ratingScore\":5,\"shopName\":\"บมจ.ธนาคารกรุงไทย สาขาเหนือคลอง\",\"subcategory\":\"01_ECONOMICS_02\",\"id\":\"d4eeoF935LgkraLeC8NsSV1_\",\"disclaimer\":\"ข้อมูลที่แสดงผลบนเว็บไซต์ เพื่อประโยชน์ในการป้องกันและควบคุมการแพร่ระบาดของโรคโควิด 19 และโรคติดต่ออื่น ๆ เท่านั้น\"},{\"address\":{\"zipCode\":\"81000\",\"province\":\"กระบี่\",\"addressNo\":\"15\",\"provinceCode\":\"64\",\"street\":\"อุตรกิจ\",\"district\":\"เมืองกระบี่\",\"subDistrict\":\"ปากน้ำ\"},\"businessType\":\"หน่วยงานและสถานที่ราชการ\",\"capacity\":70,\"category\":\"ECONOMICS_G5\",\"groupType\":\"05\",\"latitude\":15.870032,\"longitude\":100.992541,\"ratingScore\":5,\"shopName\":\"สำนักงานที่ดินจังหวัดกระบี่\",\"subcategory\":\"08_ECONOMICS_G5_04\",\"id\":\"dsXHpTTYC6nQwnsK2eoa43SW\",\"disclaimer\":\"ข้อมูลที่แสดงผลบนเว็บไซต์ เพื่อประโยชน์ในการป้องกันและควบคุมการแพร่ระบาดของโรคโควิด 19 และโรคติดต่ออื่น ๆ เท่านั้น\"},{\"address\":{\"zipCode\":\"81000\",\"province\":\"กระบี่\",\"addressNo\":\"94/12-13\",\"street\":\"มหาราช\",\"provinceCode\":\"64\",\"district\":\"เมืองกระบี่\",\"moo\":null,\"soi\":null,\"subDistrict\":\"กระบี่น้อย\",\"building\":null},\"businessType\":\"ธนาคาร\",\"capacity\":16,\"category\":\"ECONOMICS\",\"groupType\":\"1\",\"latitude\":8.067239228497861,\"longitude\":98.91533186884577,\"ratingScore\":5,\"shopName\":\"ธนาคารทิสโก้ จำกัด(มหาชน) สาขากระบี่\",\"subcategory\":\"01_ECONOMICS_02\",\"id\":\"ApMK-xU1lJxdq95JaKpxa7DE\",\"disclaimer\":\"ข้อมูลที่แสดงผลบนเว็บไซต์ เพื่อประโยชน์ในการป้องกันและควบคุมการแพร่ระบาดของโรคโควิด 19 และโรคติดต่ออื่น ๆ เท่านั้น\"},{\"address\":{\"zipCode\":\"81000\",\"province\":\"กระบี่\",\"addressNo\":\"191\",\"street\":null,\"provinceCode\":\"64\",\"district\":\"เมืองกระบี่\",\"moo\":\"12\",\"soi\":null,\"subDistrict\":\"กระบี่น้อย\",\"building\":null},\"businessType\":\"การให้บริการ\",\"capacity\":5,\"category\":\"ECONOMICS_G4\",\"groupType\":\"4\",\"latitude\":13.8018816,\"longitude\":100.5780992,\"ratingScore\":5,\"shopName\":\"ธนาคารกรุงศรีอยุธยา จำกัด(มหาชน) สาขาเทสโก้โลตัส กระบี่\",\"subcategory\":\"06_ECONOMICS_G4_02\",\"id\":\"RSHV7itCkl7bviK7aNEdVtFI\",\"disclaimer\":\"ข้อมูลที่แสดงผลบนเว็บไซต์ เพื่อประโยชน์ในการป้องกันและควบคุมการแพร่ระบาดของโรคโควิด 19 และโรคติดต่ออื่น ๆ เท่านั้น\"},{\"address\":{\"zipCode\":\"81000\",\"province\":\"กระบี่\",\"addressNo\":\"163\",\"street\":\"อุตรกิจ\",\"provinceCode\":\"64\",\"district\":\"เมืองกระบี่\",\"moo\":null,\"soi\":null,\"subDistrict\":\"ปากน้ำ\",\"building\":null},\"businessType\":\"ธนาคาร\",\"capacity\":11,\"category\":\"ECONOMICS\",\"groupType\":\"1\",\"latitude\":8.064718253032067,\"longitude\":98.91744430011497,\"ratingScore\":5,\"shopName\":\"บมจ.ธนาคารกรุงไทย สาขากระบี่\",\"subcategory\":\"01_ECONOMICS_02\",\"id\":\"Wm8c9ezQ7iYW_1jsKpKmNatf\",\"disclaimer\":\"ข้อมูลที่แสดงผลบนเว็บไซต์ เพื่อประโยชน์ในการป้องกันและควบคุมการแพร่ระบาดของโรคโควิด 19 และโรคติดต่ออื่น ๆ เท่านั้น\"},{\"address\":{\"zipCode\":\"81000\",\"province\":\"กระบี่\",\"addressNo\":\"191\",\"street\":null,\"provinceCode\":\"64\",\"district\":\"เมืองกระบี่\",\"moo\":\"12\",\"soi\":null,\"subDistrict\":\"กระบี่น้อย\",\"building\":null},\"businessType\":\"การให้บริการ\",\"capacity\":5,\"category\":\"ECONOMICS_G4\",\"groupType\":\"4\",\"latitude\":8.109383465072455,\"longitude\":98.93879273928533,\"ratingScore\":5,\"shopName\":\"AIS Shop LotusKrabi\",\"subcategory\":\"06_ECONOMICS_G4_02\",\"id\":\"ZDlAl8P1qgM_V-0WLeenb9bW\",\"disclaimer\":\"ข้อมูลที่แสดงผลบนเว็บไซต์ เพื่อประโยชน์ในการป้องกันและควบคุมการแพร่ระบาดของโรคโควิด 19 และโรคติดต่ออื่น ๆ เท่านั้น\"},{\"address\":{\"zipCode\":\"81150\",\"province\":\"กระบี่\",\"addressNo\":\"105/32\",\"street\":null,\"provinceCode\":\"64\",\"district\":\"เกาะลันตา\",\"moo\":\"3\",\"soi\":null,\"subDistrict\":\"ศาลาด่าน\",\"building\":null},\"businessType\":\"ธนาคาร\",\"capacity\":10,\"category\":\"ECONOMICS\",\"groupType\":\"1\",\"latitude\":7.6362994869033605,\"longitude\":99.03357800859021,\"ratingScore\":5,\"shopName\":\"บมจ.ธนาคารกรุงไทย สาขาเกาะลันตา\",\"subcategory\":\"01_ECONOMICS_02\",\"id\":\"4EBkuQecRjOWLJU_gEtH_hTg\",\"disclaimer\":\"ข้อมูลที่แสดงผลบนเว็บไซต์ เพื่อประโยชน์ในการป้องกันและควบคุมการแพร่ระบาดของโรคโควิด 19 และโรคติดต่ออื่น ๆ เท่านั้น\"},{\"address\":{\"zipCode\":\"81000\",\"province\":\"กระบี่\",\"addressNo\":\"349\",\"street\":\"-\",\"provinceCode\":\"64\",\"district\":\"เมืองกระบี่\",\"moo\":\"11\",\"soi\":\"-\",\"subDistrict\":\"กระบี่น้อย\",\"building\":\"-\"},\"businessType\":\"ห้างสรรพสินค้า\",\"capacity\":20,\"category\":\"ECONOMICS_G4\",\"groupType\":\"4\",\"latitude\":8.108455719024752,\"longitude\":98.92742290879875,\"ratingScore\":5,\"shopName\":\"Haas big c krabi\",\"subcategory\":\"06_ECONOMICS_G4_02\",\"id\":\"mC4ZB8MyyfcXWX6oeNrIL44R\",\"disclaimer\":\"ข้อมูลที่แสดงผลบนเว็บไซต์ เพื่อประโยชน์ในการป้องกันและควบคุมการแพร่ระบาดของโรคโควิด 19 และโรคติดต่ออื่น ๆ เท่านั้น\"}]}))\n",
              "new ResizeObserver(google.colab.output.resizeIframeToContent).observe(document.body)\n",
              "</script>\n"
            ],
            "text/plain": [
              "<Response [200]>"
            ]
          },
          "metadata": {
            "tags": []
          },
          "execution_count": 53
        }
      ]
    },
    {
      "cell_type": "code",
      "metadata": {
        "id": "ToSnxZs4qEyX",
        "colab_type": "code",
        "outputId": "d6186701-2b16-451b-acd4-594208e00b19",
        "colab": {
          "base_uri": "https://localhost:8080/",
          "height": 69
        }
      },
      "source": [
        "# ถ้าอันสุดท้าย มันจะจบยังไง จะได้เป็น end condition ได้.\n",
        "data = {\"province\":\"กระบี่\",\"from\":10,\"size\":10,\"sortBy\":\"RATING_DESC\"}\n",
        "post(url, json=data)  # ก็คือ empty"
      ],
      "execution_count": 0,
      "outputs": [
        {
          "output_type": "execute_result",
          "data": {
            "text/html": [
              "\n",
              "<script src=\"https://rawgit.com/caldwell/renderjson/master/renderjson.js\"></script>\n",
              "<script>\n",
              "renderjson.set_show_to_level(1)\n",
              "document.body.appendChild(renderjson({\"shops\":[{\"address\":{\"zipCode\":\"81110\",\"province\":\"กระบี่\",\"addressNo\":\"15/1\",\"street\":\"เพชรเกษม\",\"provinceCode\":\"64\",\"district\":\"อ่าวลึก\",\"moo\":\"2\",\"soi\":\"-\",\"subDistrict\":\"อ่าวลึกเหนือ\",\"building\":\"-\"},\"businessType\":\"ธนาคาร\",\"capacity\":12,\"category\":\"ECONOMICS\",\"groupType\":\"1\",\"latitude\":8.391231985797015,\"longitude\":98.74301778941299,\"ratingScore\":5,\"shopName\":\"บมจ.ธนาคารกรุงไทย สาขาอ่าวลึก\",\"subcategory\":\"01_ECONOMICS_02\",\"id\":\"zQeyxSbJlji7eSgOrF2zvt6g\",\"disclaimer\":\"ข้อมูลที่แสดงผลบนเว็บไซต์ เพื่อประโยชน์ในการป้องกันและควบคุมการแพร่ระบาดของโรคโควิด 19 และโรคติดต่ออื่น ๆ เท่านั้น\"},{\"address\":{\"zipCode\":\"81120\",\"province\":\"กระบี่\",\"addressNo\":\"286\",\"street\":\"เพชรเกษม\",\"provinceCode\":\"64\",\"district\":\"คลองท่อม\",\"moo\":\"2\",\"soi\":null,\"subDistrict\":\"คลองท่อมใต้\",\"building\":null},\"businessType\":\"ธนาคาร\",\"capacity\":31,\"category\":\"ECONOMICS\",\"groupType\":\"1\",\"latitude\":7.9409466608530845,\"longitude\":99.14407854215094,\"ratingScore\":5,\"shopName\":\"บมจ.ธนาคารกรุงไทย สาขาคลองท่อม\",\"subcategory\":\"01_ECONOMICS_02\",\"id\":\"w4kgeloGf1qW9qDe0kCArHyX\",\"disclaimer\":\"ข้อมูลที่แสดงผลบนเว็บไซต์ เพื่อประโยชน์ในการป้องกันและควบคุมการแพร่ระบาดของโรคโควิด 19 และโรคติดต่ออื่น ๆ เท่านั้น\"},{\"address\":{\"zipCode\":\"81130\",\"province\":\"กระบี่\",\"addressNo\":\"219\",\"street\":\"เพชรเกษม\",\"provinceCode\":\"64\",\"district\":\"เหนือคลอง\",\"moo\":\"2\",\"soi\":null,\"subDistrict\":\"เหนือคลอง\",\"building\":null},\"businessType\":\"ธนาคาร\",\"capacity\":18,\"category\":\"ECONOMICS\",\"groupType\":\"1\",\"latitude\":8.069406538578718,\"longitude\":98.99896236970368,\"ratingScore\":5,\"shopName\":\"บมจ.ธนาคารกรุงไทย สาขาเหนือคลอง\",\"subcategory\":\"01_ECONOMICS_02\",\"id\":\"d4eeoF935LgkraLeC8NsSV1_\",\"disclaimer\":\"ข้อมูลที่แสดงผลบนเว็บไซต์ เพื่อประโยชน์ในการป้องกันและควบคุมการแพร่ระบาดของโรคโควิด 19 และโรคติดต่ออื่น ๆ เท่านั้น\"},{\"address\":{\"zipCode\":\"81000\",\"province\":\"กระบี่\",\"addressNo\":\"15\",\"provinceCode\":\"64\",\"street\":\"อุตรกิจ\",\"district\":\"เมืองกระบี่\",\"subDistrict\":\"ปากน้ำ\"},\"businessType\":\"หน่วยงานและสถานที่ราชการ\",\"capacity\":70,\"category\":\"ECONOMICS_G5\",\"groupType\":\"05\",\"latitude\":15.870032,\"longitude\":100.992541,\"ratingScore\":5,\"shopName\":\"สำนักงานที่ดินจังหวัดกระบี่\",\"subcategory\":\"08_ECONOMICS_G5_04\",\"id\":\"dsXHpTTYC6nQwnsK2eoa43SW\",\"disclaimer\":\"ข้อมูลที่แสดงผลบนเว็บไซต์ เพื่อประโยชน์ในการป้องกันและควบคุมการแพร่ระบาดของโรคโควิด 19 และโรคติดต่ออื่น ๆ เท่านั้น\"},{\"address\":{\"zipCode\":\"81000\",\"province\":\"กระบี่\",\"addressNo\":\"94/12-13\",\"street\":\"มหาราช\",\"provinceCode\":\"64\",\"district\":\"เมืองกระบี่\",\"moo\":null,\"soi\":null,\"subDistrict\":\"กระบี่น้อย\",\"building\":null},\"businessType\":\"ธนาคาร\",\"capacity\":16,\"category\":\"ECONOMICS\",\"groupType\":\"1\",\"latitude\":8.067239228497861,\"longitude\":98.91533186884577,\"ratingScore\":5,\"shopName\":\"ธนาคารทิสโก้ จำกัด(มหาชน) สาขากระบี่\",\"subcategory\":\"01_ECONOMICS_02\",\"id\":\"ApMK-xU1lJxdq95JaKpxa7DE\",\"disclaimer\":\"ข้อมูลที่แสดงผลบนเว็บไซต์ เพื่อประโยชน์ในการป้องกันและควบคุมการแพร่ระบาดของโรคโควิด 19 และโรคติดต่ออื่น ๆ เท่านั้น\"},{\"address\":{\"zipCode\":\"81000\",\"province\":\"กระบี่\",\"addressNo\":\"191\",\"street\":null,\"provinceCode\":\"64\",\"district\":\"เมืองกระบี่\",\"moo\":\"12\",\"soi\":null,\"subDistrict\":\"กระบี่น้อย\",\"building\":null},\"businessType\":\"การให้บริการ\",\"capacity\":5,\"category\":\"ECONOMICS_G4\",\"groupType\":\"4\",\"latitude\":13.8018816,\"longitude\":100.5780992,\"ratingScore\":5,\"shopName\":\"ธนาคารกรุงศรีอยุธยา จำกัด(มหาชน) สาขาเทสโก้โลตัส กระบี่\",\"subcategory\":\"06_ECONOMICS_G4_02\",\"id\":\"RSHV7itCkl7bviK7aNEdVtFI\",\"disclaimer\":\"ข้อมูลที่แสดงผลบนเว็บไซต์ เพื่อประโยชน์ในการป้องกันและควบคุมการแพร่ระบาดของโรคโควิด 19 และโรคติดต่ออื่น ๆ เท่านั้น\"},{\"address\":{\"zipCode\":\"81000\",\"province\":\"กระบี่\",\"addressNo\":\"163\",\"street\":\"อุตรกิจ\",\"provinceCode\":\"64\",\"district\":\"เมืองกระบี่\",\"moo\":null,\"soi\":null,\"subDistrict\":\"ปากน้ำ\",\"building\":null},\"businessType\":\"ธนาคาร\",\"capacity\":11,\"category\":\"ECONOMICS\",\"groupType\":\"1\",\"latitude\":8.064718253032067,\"longitude\":98.91744430011497,\"ratingScore\":5,\"shopName\":\"บมจ.ธนาคารกรุงไทย สาขากระบี่\",\"subcategory\":\"01_ECONOMICS_02\",\"id\":\"Wm8c9ezQ7iYW_1jsKpKmNatf\",\"disclaimer\":\"ข้อมูลที่แสดงผลบนเว็บไซต์ เพื่อประโยชน์ในการป้องกันและควบคุมการแพร่ระบาดของโรคโควิด 19 และโรคติดต่ออื่น ๆ เท่านั้น\"},{\"address\":{\"zipCode\":\"81000\",\"province\":\"กระบี่\",\"addressNo\":\"191\",\"street\":null,\"provinceCode\":\"64\",\"district\":\"เมืองกระบี่\",\"moo\":\"12\",\"soi\":null,\"subDistrict\":\"กระบี่น้อย\",\"building\":null},\"businessType\":\"การให้บริการ\",\"capacity\":5,\"category\":\"ECONOMICS_G4\",\"groupType\":\"4\",\"latitude\":8.109383465072455,\"longitude\":98.93879273928533,\"ratingScore\":5,\"shopName\":\"AIS Shop LotusKrabi\",\"subcategory\":\"06_ECONOMICS_G4_02\",\"id\":\"ZDlAl8P1qgM_V-0WLeenb9bW\",\"disclaimer\":\"ข้อมูลที่แสดงผลบนเว็บไซต์ เพื่อประโยชน์ในการป้องกันและควบคุมการแพร่ระบาดของโรคโควิด 19 และโรคติดต่ออื่น ๆ เท่านั้น\"},{\"address\":{\"zipCode\":\"81150\",\"province\":\"กระบี่\",\"addressNo\":\"105/32\",\"street\":null,\"provinceCode\":\"64\",\"district\":\"เกาะลันตา\",\"moo\":\"3\",\"soi\":null,\"subDistrict\":\"ศาลาด่าน\",\"building\":null},\"businessType\":\"ธนาคาร\",\"capacity\":10,\"category\":\"ECONOMICS\",\"groupType\":\"1\",\"latitude\":7.6362994869033605,\"longitude\":99.03357800859021,\"ratingScore\":5,\"shopName\":\"บมจ.ธนาคารกรุงไทย สาขาเกาะลันตา\",\"subcategory\":\"01_ECONOMICS_02\",\"id\":\"4EBkuQecRjOWLJU_gEtH_hTg\",\"disclaimer\":\"ข้อมูลที่แสดงผลบนเว็บไซต์ เพื่อประโยชน์ในการป้องกันและควบคุมการแพร่ระบาดของโรคโควิด 19 และโรคติดต่ออื่น ๆ เท่านั้น\"},{\"address\":{\"zipCode\":\"81000\",\"province\":\"กระบี่\",\"addressNo\":\"349\",\"street\":\"-\",\"provinceCode\":\"64\",\"district\":\"เมืองกระบี่\",\"moo\":\"11\",\"soi\":\"-\",\"subDistrict\":\"กระบี่น้อย\",\"building\":\"-\"},\"businessType\":\"ห้างสรรพสินค้า\",\"capacity\":20,\"category\":\"ECONOMICS_G4\",\"groupType\":\"4\",\"latitude\":8.108455719024752,\"longitude\":98.92742290879875,\"ratingScore\":5,\"shopName\":\"Haas big c krabi\",\"subcategory\":\"06_ECONOMICS_G4_02\",\"id\":\"mC4ZB8MyyfcXWX6oeNrIL44R\",\"disclaimer\":\"ข้อมูลที่แสดงผลบนเว็บไซต์ เพื่อประโยชน์ในการป้องกันและควบคุมการแพร่ระบาดของโรคโควิด 19 และโรคติดต่ออื่น ๆ เท่านั้น\"}]}))\n",
              "new ResizeObserver(google.colab.output.resizeIframeToContent).observe(document.body)\n",
              "</script>\n"
            ],
            "text/plain": [
              "<Response [200]>"
            ]
          },
          "metadata": {
            "tags": []
          },
          "execution_count": 56
        }
      ]
    },
    {
      "cell_type": "code",
      "metadata": {
        "id": "UJBbLovhqduf",
        "colab_type": "code",
        "outputId": "77568049-063c-4978-b96c-4214e15b5fbf",
        "colab": {
          "base_uri": "https://localhost:8080/",
          "height": 35
        }
      },
      "source": [
        "all_shops = []\n",
        "data = {\"province\":\"กระบี่\",\"size\":10,\"sortBy\":\"RATING_DESC\"}\n",
        "start = 0\n",
        "while True:\n",
        "  print('\\r', start, end='')\n",
        "  rsp = post(url, json=data)\n",
        "  shops = rsp.json()['shops']\n",
        "  if not shops: break # หมดแล้ว\n",
        "  all_shops.extend(shops)  \n",
        "  start += 10\n",
        "  data['from'] = start # รอบ 2 ขึ้นไป ถึงต้องมี\n",
        "print('\\nTotal %d shops in กระบี่' % len(all_shops))"
      ],
      "execution_count": 0,
      "outputs": [
        {
          "output_type": "stream",
          "text": [
            " 440Total 432 shops in กระบี่\n"
          ],
          "name": "stdout"
        }
      ]
    },
    {
      "cell_type": "code",
      "metadata": {
        "id": "-XCDjdRkr78V",
        "colab_type": "code",
        "outputId": "2fa8edd4-7950-4f0a-84f6-e7d29094378c",
        "colab": {
          "base_uri": "https://localhost:8080/",
          "height": 260
        }
      },
      "source": [
        "# ดูรายละเอียด ของ shop แรก\n",
        "shop = all_shops[0]; render(shop)"
      ],
      "execution_count": 0,
      "outputs": [
        {
          "output_type": "execute_result",
          "data": {
            "text/html": [
              "\n",
              "<script src=\"https://rawgit.com/caldwell/renderjson/master/renderjson.js\"></script>\n",
              "<script>\n",
              "renderjson.set_show_to_level(1)\n",
              "document.body.appendChild(renderjson({\"address\": {\"zipCode\": \"81000\", \"province\": \"\\u0e01\\u0e23\\u0e30\\u0e1a\\u0e35\\u0e48\", \"addressNo\": \"191\", \"street\": null, \"provinceCode\": \"64\", \"district\": \"\\u0e40\\u0e21\\u0e37\\u0e2d\\u0e07\\u0e01\\u0e23\\u0e30\\u0e1a\\u0e35\\u0e48\", \"moo\": \"12\", \"soi\": null, \"subDistrict\": \"\\u0e01\\u0e23\\u0e30\\u0e1a\\u0e35\\u0e48\\u0e19\\u0e49\\u0e2d\\u0e22\", \"building\": \"2\"}, \"businessType\": \"\\u0e2b\\u0e49\\u0e32\\u0e07\\u0e2a\\u0e23\\u0e23\\u0e1e\\u0e2a\\u0e34\\u0e19\\u0e04\\u0e49\\u0e32\", \"capacity\": 10, \"category\": \"ECONOMICS_G4\", \"groupType\": \"4\", \"latitude\": 8.1087748, \"longitude\": 98.9390047, \"ratingScore\": 5, \"shopName\": \"Haas \\u0e42\\u0e25\\u0e15\\u0e31\\u0e2a\\u0e01\\u0e23\\u0e30\\u0e1a\\u0e35\\u0e48\", \"subcategory\": \"06_ECONOMICS_G4_02\", \"id\": \"ywsW8_te4_me8Iw5CFIKDiY3\", \"disclaimer\": \"\\u0e02\\u0e49\\u0e2d\\u0e21\\u0e39\\u0e25\\u0e17\\u0e35\\u0e48\\u0e41\\u0e2a\\u0e14\\u0e07\\u0e1c\\u0e25\\u0e1a\\u0e19\\u0e40\\u0e27\\u0e47\\u0e1a\\u0e44\\u0e0b\\u0e15\\u0e4c \\u0e40\\u0e1e\\u0e37\\u0e48\\u0e2d\\u0e1b\\u0e23\\u0e30\\u0e42\\u0e22\\u0e0a\\u0e19\\u0e4c\\u0e43\\u0e19\\u0e01\\u0e32\\u0e23\\u0e1b\\u0e49\\u0e2d\\u0e07\\u0e01\\u0e31\\u0e19\\u0e41\\u0e25\\u0e30\\u0e04\\u0e27\\u0e1a\\u0e04\\u0e38\\u0e21\\u0e01\\u0e32\\u0e23\\u0e41\\u0e1e\\u0e23\\u0e48\\u0e23\\u0e30\\u0e1a\\u0e32\\u0e14\\u0e02\\u0e2d\\u0e07\\u0e42\\u0e23\\u0e04\\u0e42\\u0e04\\u0e27\\u0e34\\u0e14 19 \\u0e41\\u0e25\\u0e30\\u0e42\\u0e23\\u0e04\\u0e15\\u0e34\\u0e14\\u0e15\\u0e48\\u0e2d\\u0e2d\\u0e37\\u0e48\\u0e19 \\u0e46 \\u0e40\\u0e17\\u0e48\\u0e32\\u0e19\\u0e31\\u0e49\\u0e19\"}))\n",
              "new ResizeObserver(google.colab.output.resizeIframeToContent).observe(document.body)\n",
              "</script>\n"
            ],
            "text/plain": [
              "<IPython.core.display.HTML object>"
            ]
          },
          "metadata": {
            "tags": []
          },
          "execution_count": 59
        }
      ]
    },
    {
      "cell_type": "code",
      "metadata": {
        "id": "zDZslaM1sSjn",
        "colab_type": "code",
        "outputId": "f4792455-5e70-4e12-9ec9-fcfa7bf5f8be",
        "colab": {
          "base_uri": "https://localhost:8080/",
          "height": 312
        }
      },
      "source": [
        "# อยากได้ stat ด้วย..  อาจต้องผ่าน captcha\n",
        "rsp = get('https://api-search.thaichana.com/shop/'+ shop['id']); rsp"
      ],
      "execution_count": 0,
      "outputs": [
        {
          "output_type": "execute_result",
          "data": {
            "text/html": [
              "\n",
              "<script src=\"https://rawgit.com/caldwell/renderjson/master/renderjson.js\"></script>\n",
              "<script>\n",
              "renderjson.set_show_to_level(1)\n",
              "document.body.appendChild(renderjson({\"shop\":{\"address\":{\"zipCode\":\"81000\",\"province\":\"กระบี่\",\"addressNo\":\"76/1\",\"street\":\"มหาราช\",\"provinceCode\":\"64\",\"district\":\"เมืองกระบี่\",\"moo\":null,\"soi\":null,\"subDistrict\":\"กระบี่น้อย\",\"building\":null},\"businessType\":\"ศูนย์การค้า\",\"capacity\":15,\"category\":\"ECONOMICS_G4\",\"groupType\":\"4\",\"latitude\":8.0644218,\"longitude\":98.9154066,\"ratingScore\":5,\"shopName\":\"Swensen's Vogue Krabi\",\"subcategory\":\"06_ECONOMICS_G4_02\",\"id\":\"17CtdKxs8MP8G9B1Uj-cx6v4\",\"disclaimer\":\"ข้อมูลที่แสดงผลบนเว็บไซต์ เพื่อประโยชน์ในการป้องกันและควบคุมการแพร่ระบาดของโรคโควิด 19 และโรคติดต่ออื่น ๆ เท่านั้น\"},\"recaptchaSuccess\":false}))\n",
              "new ResizeObserver(google.colab.output.resizeIframeToContent).observe(document.body)\n",
              "</script>\n"
            ],
            "text/plain": [
              "<Response [200]>"
            ]
          },
          "metadata": {
            "tags": []
          },
          "execution_count": 61
        }
      ]
    },
    {
      "cell_type": "markdown",
      "metadata": {
        "id": "RXwg8DsuuSgA",
        "colab_type": "text"
      },
      "source": [
        "สรุปว่า security ดีขึ้นแล้ว.  ต้องเป็นคนจริงๆ ถึงจะเอา stat ไปได้ ว่าตอนนี้ มีคนอยู่ในร้านเท่าไหร่"
      ]
    },
    {
      "cell_type": "code",
      "metadata": {
        "id": "ZDUhN7zVt6TV",
        "colab_type": "code",
        "colab": {}
      },
      "source": [
        ""
      ],
      "execution_count": 0,
      "outputs": []
    }
  ]
}